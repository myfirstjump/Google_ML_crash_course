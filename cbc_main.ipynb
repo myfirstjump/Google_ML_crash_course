{
 "cells": [
  {
   "cell_type": "code",
   "execution_count": 173,
   "metadata": {},
   "outputs": [],
   "source": [
    "import os\n",
    "import pandas as pd\n",
    "import numpy as np\n",
    "import re\n",
    "from matplotlib import pyplot as plt\n",
    "import tensorflow as tf\n",
    "from tensorflow.python.data import Dataset\n",
    "from IPython import display\n",
    "import math\n",
    "\n",
    "from matplotlib import cm\n",
    "from matplotlib import gridspec\n",
    "from sklearn import metrics"
   ]
  },
  {
   "cell_type": "code",
   "execution_count": 2,
   "metadata": {
    "collapsed": true
   },
   "outputs": [],
   "source": [
    "tf.logging.set_verbosity(tf.logging.ERROR)\n",
    "pd.options.display.max_rows = 10\n",
    "pd.options.display.float_format = '{:.1f}'.format"
   ]
  },
  {
   "cell_type": "code",
   "execution_count": 3,
   "metadata": {},
   "outputs": [
    {
     "name": "stdout",
     "output_type": "stream",
     "text": [
      "C:/Users/edwardchen/Desktop/DataSets/201801_cbc/Data/model/cbc_dnn/\n"
     ]
    }
   ],
   "source": [
    "### working path\n",
    "working_dir = \"/app\"\n",
    "working_dir = \"C:/Users/edwardchen/Desktop/DataSets/201801_cbc\"\n",
    "# model print out\n",
    "model_dir = \"/Data/model/cbc_dnn/\"\n",
    "model_dir = \"\".join([working_dir, model_dir])\n",
    "print(model_dir)\n",
    "\n",
    "### external test set\n",
    "external_train_file = \"/Data/sample/external_train_cbc.csv\"\n",
    "external_train_file = \"\".join([working_dir, external_train_file])\n",
    "\n",
    "external_test_file = \"/Data/sample/external_test_cbc.csv\"\n",
    "external_test_file = \"\".join([working_dir, external_test_file])\n",
    "\n",
    "external_validate_file = \"/Data/sample/external_validate_cbc.csv\"\n",
    "external_validate_file = \"\".join([working_dir, external_validate_file])\n",
    "\n",
    "data_dir = \"C:/git_src/cbc/Data/raw_data/cbc_csv_1_2\"\n",
    "data_dir = \"/Data/raw_data/cbc_csv_1_2\"\n",
    "data_dir = \"\".join([working_dir, data_dir])\n",
    "\n",
    "blast_count_dir = \"C:/git_src/cbc/Data/raw_data/blast_count\"\n",
    "blast_count_dir = \"/Data/raw_data/blast_count\"\n",
    "blast_count_dir = \"\".join([working_dir, blast_count_dir])\n",
    "\n",
    "### user id data\n",
    "user_info_dir = \"C:/git_src/cbc/Data/raw_data/id_info\"\n",
    "user_info_dir = \"/Data/raw_data/id_info\"\n",
    "user_info_dir = \"\".join([working_dir, user_info_dir])\n"
   ]
  },
  {
   "cell_type": "code",
   "execution_count": 4,
   "metadata": {
    "collapsed": true
   },
   "outputs": [],
   "source": [
    "def read_csv_from_dir(input_dir):\n",
    "    abs_path_list = []\n",
    "    cnt = 0\n",
    "    for files in [item for item in os.walk(input_dir)]:\n",
    "        cnt = cnt + 1\n",
    "        #print(\"data directory #:{}\".format(cnt))\n",
    "        file_list = [file for file in files[2]]\n",
    "        unflatten_list = [files[0]+\"/\"+file for file in file_list]\n",
    "        file_cnt = 0\n",
    "        for i in unflatten_list:\n",
    "            file_cnt = file_cnt + 1\n",
    "            #print(\"files count #:{}\".format(file_cnt))\n",
    "            abs_path_list.append(i)\n",
    "\n",
    "    appended_data = []\n",
    "    for file in abs_path_list:\n",
    "        print(\"read file: {}\".format(file))\n",
    "        data = pd.read_csv(file, encoding=\"latin1\")\n",
    "        appended_data.append(data)\n",
    "    appended_data = pd.concat(appended_data, axis=0)\n",
    "    return appended_data"
   ]
  },
  {
   "cell_type": "code",
   "execution_count": 5,
   "metadata": {
    "collapsed": true
   },
   "outputs": [],
   "source": [
    "def remove_redundant_specimen_by_time(input_data, merge_buffer=3600):\n",
    "    my_date_time = input_data['Analysis Date'].str.cat(input_data['Analysis Time'], sep = \" \")\n",
    "    my_date_time = pd.to_datetime(my_date_time, format='%m/%d/%Y %H:%M:%S')\n",
    "    input_data_merge_time = input_data.assign(my_date_time = my_date_time)\n",
    "    input_data_merge_time = input_data_merge_time.sort_values(by = [\"Specimen_ID\", \"my_date_time\"], ascending = False)\n",
    "    input_data_merge_time['date_time_2'] = input_data_merge_time.groupby(\"Specimen_ID\").my_date_time.shift(1)\n",
    "    input_data_merge_time['time_difference'] = input_data_merge_time['date_time_2'] - input_data_merge_time['my_date_time']\n",
    "    keep = (input_data_merge_time.loc[:, \"time_difference\"] > pd.Timedelta(merge_buffer, unit='s')) | pd.isnull(input_data_merge_time.loc[:, \"time_difference\"])\n",
    "    return input_data_merge_time.loc[keep, :]"
   ]
  },
  {
   "cell_type": "code",
   "execution_count": 6,
   "metadata": {
    "collapsed": true
   },
   "outputs": [],
   "source": [
    "# input_data_merge_time.loc[keep, [\"Specimen_ID\", \"my_date_time\", 'date_time_2', 'time_difference', 'my_index']].sort_index()"
   ]
  },
  {
   "cell_type": "code",
   "execution_count": 7,
   "metadata": {
    "scrolled": true
   },
   "outputs": [
    {
     "name": "stdout",
     "output_type": "stream",
     "text": [
      "read file: C:/Users/edwardchen/Desktop/DataSets/201801_cbc/Data/raw_data/cbc_csv_1_2\\201601/Patient_201601H(1)_IVD.csv\n"
     ]
    },
    {
     "name": "stderr",
     "output_type": "stream",
     "text": [
      "C:\\Users\\edwardchen\\AppData\\Local\\Continuum\\anaconda3\\lib\\site-packages\\IPython\\core\\interactiveshell.py:2802: DtypeWarning: Columns (40,42) have mixed types. Specify dtype option on import or set low_memory=False.\n",
      "  if self.run_code(code, result):\n"
     ]
    },
    {
     "name": "stdout",
     "output_type": "stream",
     "text": [
      "read file: C:/Users/edwardchen/Desktop/DataSets/201801_cbc/Data/raw_data/cbc_csv_1_2\\201601/Patient_2016h(2+3)_IVD.csv\n"
     ]
    },
    {
     "name": "stderr",
     "output_type": "stream",
     "text": [
      "C:\\Users\\edwardchen\\AppData\\Local\\Continuum\\anaconda3\\lib\\site-packages\\IPython\\core\\interactiveshell.py:2802: DtypeWarning: Columns (0,36,38,40,42,56,84,86,88,90) have mixed types. Specify dtype option on import or set low_memory=False.\n",
      "  if self.run_code(code, result):\n",
      "C:\\Users\\edwardchen\\AppData\\Local\\Continuum\\anaconda3\\lib\\site-packages\\IPython\\core\\interactiveshell.py:2802: DtypeWarning: Columns (42) have mixed types. Specify dtype option on import or set low_memory=False.\n",
      "  if self.run_code(code, result):\n"
     ]
    },
    {
     "name": "stdout",
     "output_type": "stream",
     "text": [
      "read file: C:/Users/edwardchen/Desktop/DataSets/201801_cbc/Data/raw_data/cbc_csv_1_2\\201602/Patient_201602H(1)_IVD.csv\n",
      "read file: C:/Users/edwardchen/Desktop/DataSets/201801_cbc/Data/raw_data/cbc_csv_1_2\\201602/Patient_201602H(2+3)_IVD.csv\n"
     ]
    },
    {
     "name": "stderr",
     "output_type": "stream",
     "text": [
      "C:\\Users\\edwardchen\\AppData\\Local\\Continuum\\anaconda3\\lib\\site-packages\\IPython\\core\\interactiveshell.py:2802: DtypeWarning: Columns (0,36,38,42,84,86,88,90) have mixed types. Specify dtype option on import or set low_memory=False.\n",
      "  if self.run_code(code, result):\n",
      "C:\\Users\\edwardchen\\AppData\\Local\\Continuum\\anaconda3\\lib\\site-packages\\IPython\\core\\interactiveshell.py:2802: DtypeWarning: Columns (36,38,40,42,56) have mixed types. Specify dtype option on import or set low_memory=False.\n",
      "  if self.run_code(code, result):\n"
     ]
    },
    {
     "name": "stdout",
     "output_type": "stream",
     "text": [
      "read file: C:/Users/edwardchen/Desktop/DataSets/201801_cbc/Data/raw_data/cbc_csv_1_2\\201603/Patient_2016-03H(1)_IVD.csv\n",
      "read file: C:/Users/edwardchen/Desktop/DataSets/201801_cbc/Data/raw_data/cbc_csv_1_2\\201603/Patient_2016-03H(2+3)_IVD.csv\n"
     ]
    },
    {
     "name": "stderr",
     "output_type": "stream",
     "text": [
      "C:\\Users\\edwardchen\\AppData\\Local\\Continuum\\anaconda3\\lib\\site-packages\\IPython\\core\\interactiveshell.py:2802: DtypeWarning: Columns (0,42,84,86,88,90) have mixed types. Specify dtype option on import or set low_memory=False.\n",
      "  if self.run_code(code, result):\n",
      "C:\\Users\\edwardchen\\AppData\\Local\\Continuum\\anaconda3\\lib\\site-packages\\IPython\\core\\interactiveshell.py:2802: DtypeWarning: Columns (36,38,42) have mixed types. Specify dtype option on import or set low_memory=False.\n",
      "  if self.run_code(code, result):\n"
     ]
    },
    {
     "name": "stdout",
     "output_type": "stream",
     "text": [
      "read file: C:/Users/edwardchen/Desktop/DataSets/201801_cbc/Data/raw_data/cbc_csv_1_2\\201604/Patient_2016-04H(1)_IVD.csv\n",
      "read file: C:/Users/edwardchen/Desktop/DataSets/201801_cbc/Data/raw_data/cbc_csv_1_2\\201604/Patient_2016-04H(2+3)_IVD.csv\n"
     ]
    },
    {
     "name": "stderr",
     "output_type": "stream",
     "text": [
      "C:\\Users\\edwardchen\\AppData\\Local\\Continuum\\anaconda3\\lib\\site-packages\\IPython\\core\\interactiveshell.py:2802: DtypeWarning: Columns (0,40,42,56,84,86,88,90) have mixed types. Specify dtype option on import or set low_memory=False.\n",
      "  if self.run_code(code, result):\n"
     ]
    },
    {
     "name": "stdout",
     "output_type": "stream",
     "text": [
      "read file: C:/Users/edwardchen/Desktop/DataSets/201801_cbc/Data/raw_data/cbc_csv_1_2\\201605/Patient_2016-05H(1)_IVD.csv\n",
      "read file: C:/Users/edwardchen/Desktop/DataSets/201801_cbc/Data/raw_data/cbc_csv_1_2\\201605/Patient_2016-05H(2+3)_IVD.csv\n"
     ]
    },
    {
     "name": "stderr",
     "output_type": "stream",
     "text": [
      "C:\\Users\\edwardchen\\AppData\\Local\\Continuum\\anaconda3\\lib\\site-packages\\IPython\\core\\interactiveshell.py:2802: DtypeWarning: Columns (0,36,38,42) have mixed types. Specify dtype option on import or set low_memory=False.\n",
      "  if self.run_code(code, result):\n",
      "C:\\Users\\edwardchen\\AppData\\Local\\Continuum\\anaconda3\\lib\\site-packages\\IPython\\core\\interactiveshell.py:2802: DtypeWarning: Columns (36,38,86) have mixed types. Specify dtype option on import or set low_memory=False.\n",
      "  if self.run_code(code, result):\n"
     ]
    },
    {
     "name": "stdout",
     "output_type": "stream",
     "text": [
      "read file: C:/Users/edwardchen/Desktop/DataSets/201801_cbc/Data/raw_data/cbc_csv_1_2\\201606/Patient_2016-06H(1)_IVD.csv\n",
      "read file: C:/Users/edwardchen/Desktop/DataSets/201801_cbc/Data/raw_data/cbc_csv_1_2\\201606/Patient_2016-06H(2+3)_IVD.csv\n",
      "read file: C:/Users/edwardchen/Desktop/DataSets/201801_cbc/Data/raw_data/cbc_csv_1_2\\201607/Patient_2016-07H(1)_IVD.csv\n",
      "read file: C:/Users/edwardchen/Desktop/DataSets/201801_cbc/Data/raw_data/cbc_csv_1_2\\201607/Patient_2016-07H(2+3)_IVD.csv\n"
     ]
    },
    {
     "name": "stderr",
     "output_type": "stream",
     "text": [
      "C:\\Users\\edwardchen\\AppData\\Local\\Continuum\\anaconda3\\lib\\site-packages\\IPython\\core\\interactiveshell.py:2802: DtypeWarning: Columns (36,38,85,87,89,91) have mixed types. Specify dtype option on import or set low_memory=False.\n",
      "  if self.run_code(code, result):\n"
     ]
    },
    {
     "name": "stdout",
     "output_type": "stream",
     "text": [
      "read file: C:/Users/edwardchen/Desktop/DataSets/201801_cbc/Data/raw_data/cbc_csv_1_2\\201608/Patient_2016-08(H1)_IVD.csv\n",
      "read file: C:/Users/edwardchen/Desktop/DataSets/201801_cbc/Data/raw_data/cbc_csv_1_2\\201608/Patient_2016-08H(2+3)_IVD.csv\n"
     ]
    },
    {
     "name": "stderr",
     "output_type": "stream",
     "text": [
      "C:\\Users\\edwardchen\\AppData\\Local\\Continuum\\anaconda3\\lib\\site-packages\\IPython\\core\\interactiveshell.py:2802: DtypeWarning: Columns (36,38,40) have mixed types. Specify dtype option on import or set low_memory=False.\n",
      "  if self.run_code(code, result):\n"
     ]
    },
    {
     "name": "stdout",
     "output_type": "stream",
     "text": [
      "read file: C:/Users/edwardchen/Desktop/DataSets/201801_cbc/Data/raw_data/cbc_csv_1_2\\201609/Patient_2015DxH(2+3)_IVD.csv\n"
     ]
    },
    {
     "name": "stderr",
     "output_type": "stream",
     "text": [
      "C:\\Users\\edwardchen\\AppData\\Local\\Continuum\\anaconda3\\lib\\site-packages\\IPython\\core\\interactiveshell.py:2802: DtypeWarning: Columns (40,42,56,84,86,88,90) have mixed types. Specify dtype option on import or set low_memory=False.\n",
      "  if self.run_code(code, result):\n"
     ]
    },
    {
     "name": "stdout",
     "output_type": "stream",
     "text": [
      "read file: C:/Users/edwardchen/Desktop/DataSets/201801_cbc/Data/raw_data/cbc_csv_1_2\\201609/Patient_201609H(1)_IVD.csv\n",
      "read file: C:/Users/edwardchen/Desktop/DataSets/201801_cbc/Data/raw_data/cbc_csv_1_2\\201609/Patient_201609H(2+3)_IVD.csv\n",
      "read file: C:/Users/edwardchen/Desktop/DataSets/201801_cbc/Data/raw_data/cbc_csv_1_2\\201610/Patient_201610H(1)_IVD.csv\n",
      "read file: C:/Users/edwardchen/Desktop/DataSets/201801_cbc/Data/raw_data/cbc_csv_1_2\\201610/Patient_201610H(2+3)_IVD.csv"
     ]
    },
    {
     "name": "stderr",
     "output_type": "stream",
     "text": [
      "C:\\Users\\edwardchen\\AppData\\Local\\Continuum\\anaconda3\\lib\\site-packages\\IPython\\core\\interactiveshell.py:2802: DtypeWarning: Columns (42,84,86,88,90) have mixed types. Specify dtype option on import or set low_memory=False.\n",
      "  if self.run_code(code, result):\n",
      "C:\\Users\\edwardchen\\AppData\\Local\\Continuum\\anaconda3\\lib\\site-packages\\IPython\\core\\interactiveshell.py:2802: DtypeWarning: Columns (36,38,42,84,86,88,90) have mixed types. Specify dtype option on import or set low_memory=False.\n",
      "  if self.run_code(code, result):\n"
     ]
    },
    {
     "name": "stdout",
     "output_type": "stream",
     "text": [
      "\n",
      "read file: C:/Users/edwardchen/Desktop/DataSets/201801_cbc/Data/raw_data/cbc_csv_1_2\\201611/Patient_2016-11H(1)_IVD.csv\n",
      "read file: C:/Users/edwardchen/Desktop/DataSets/201801_cbc/Data/raw_data/cbc_csv_1_2\\201611/Patient_2016-11H(2+3)_IVD.csv\n"
     ]
    },
    {
     "name": "stderr",
     "output_type": "stream",
     "text": [
      "C:\\Users\\edwardchen\\AppData\\Local\\Continuum\\anaconda3\\lib\\site-packages\\IPython\\core\\interactiveshell.py:2802: DtypeWarning: Columns (0,1,36,38,42,84,86,88,90) have mixed types. Specify dtype option on import or set low_memory=False.\n",
      "  if self.run_code(code, result):\n"
     ]
    },
    {
     "name": "stdout",
     "output_type": "stream",
     "text": [
      "read file: C:/Users/edwardchen/Desktop/DataSets/201801_cbc/Data/raw_data/cbc_csv_1_2\\201612/Patient_2011612H(1)_IVD.csv\n",
      "read file: C:/Users/edwardchen/Desktop/DataSets/201801_cbc/Data/raw_data/cbc_csv_1_2\\201612/Patient_201612H(2+3)_IVD.csv\n"
     ]
    },
    {
     "name": "stderr",
     "output_type": "stream",
     "text": [
      "C:\\Users\\edwardchen\\AppData\\Local\\Continuum\\anaconda3\\lib\\site-packages\\IPython\\core\\interactiveshell.py:2802: DtypeWarning: Columns (0,36,38,40,42,56,84,88,90,93,94,95) have mixed types. Specify dtype option on import or set low_memory=False.\n",
      "  if self.run_code(code, result):\n"
     ]
    },
    {
     "name": "stdout",
     "output_type": "stream",
     "text": [
      "read file: C:/Users/edwardchen/Desktop/DataSets/201801_cbc/Data/raw_data/blast_count/labdata-Blast-2016.csv\n",
      "read file: C:/Users/edwardchen/Desktop/DataSets/201801_cbc/Data/raw_data/id_info/2016-Barcode.csv\n"
     ]
    }
   ],
   "source": [
    "CBC_data = read_csv_from_dir(data_dir)\n",
    "blast_value = read_csv_from_dir(blast_count_dir)\n",
    "user_info_df = read_csv_from_dir(user_info_dir)"
   ]
  },
  {
   "cell_type": "code",
   "execution_count": 8,
   "metadata": {},
   "outputs": [
    {
     "name": "stdout",
     "output_type": "stream",
     "text": [
      "CBC_data:(319839, 230)\n",
      "blast_count:(1118, 7)\n",
      "user_info:(294915, 2)\n"
     ]
    }
   ],
   "source": [
    "print(\"CBC_data:{}\".format(CBC_data.shape))\n",
    "print(\"blast_count:{}\".format(blast_value.shape))\n",
    "print(\"user_info:{}\".format(user_info_df.shape))"
   ]
  },
  {
   "cell_type": "code",
   "execution_count": 132,
   "metadata": {
    "collapsed": true
   },
   "outputs": [],
   "source": [
    "# CBC_data = CBC_bk.copy()"
   ]
  },
  {
   "cell_type": "code",
   "execution_count": 10,
   "metadata": {
    "collapsed": true
   },
   "outputs": [],
   "source": [
    "# CBC_data set_index\n",
    "CBC_data = CBC_data.set_index(np.arange(CBC_data.shape[0]))\n",
    "\n",
    "#CBC_data = CBC_bk.copy()\n",
    "CBC_data = CBC_data.rename(columns={\"Specimen ID\":\"Specimen_ID\"})\n",
    "CBC_data['Specimen_ID'] = CBC_data['Specimen_ID'].astype(str)\n",
    "CBC_data = CBC_data.assign(my_index = CBC_data.index)  # for test\n",
    "CBC_bk = CBC_data.copy()"
   ]
  },
  {
   "cell_type": "code",
   "execution_count": 133,
   "metadata": {
    "collapsed": true
   },
   "outputs": [],
   "source": [
    "### Duplicate data \n",
    "duplicated_label = CBC_data.duplicated(subset = [\"Specimen_ID\"], keep = False)\n",
    "cbc_duplicated = CBC_data.loc[duplicated_label, :]\n",
    "cbc_duplicated_merge = remove_redundant_specimen_by_time(input_data=cbc_duplicated)\n",
    "cbc_unique = CBC_data.drop_duplicates(subset='Specimen_ID', keep=False, inplace=False)\n",
    "CBC_data = pd.concat([cbc_duplicated_merge, cbc_unique], axis = 0)"
   ]
  },
  {
   "cell_type": "code",
   "execution_count": 134,
   "metadata": {},
   "outputs": [
    {
     "name": "stdout",
     "output_type": "stream",
     "text": [
      "cbc_duplicated:(39970, 231)\n",
      "cbc_duplicated_merge:(23086, 234)\n",
      "cbc_unique:(279869, 231)\n",
      "CBC_data:(302955, 234)\n"
     ]
    }
   ],
   "source": [
    "print(\"cbc_duplicated:{}\".format(cbc_duplicated.shape))\n",
    "print(\"cbc_duplicated_merge:{}\".format(cbc_duplicated_merge.shape))\n",
    "print(\"cbc_unique:{}\".format(cbc_unique.shape))\n",
    "print(\"CBC_data:{}\".format(CBC_data.shape))"
   ]
  },
  {
   "cell_type": "markdown",
   "metadata": {},
   "source": [
    "### filtering"
   ]
  },
  {
   "cell_type": "code",
   "execution_count": 135,
   "metadata": {
    "collapsed": true
   },
   "outputs": [],
   "source": [
    "CBC_data = CBC_data.rename(columns={'Imm Grans 1':'Imm_Grans_1', 'Imm Grans 2':'Imm_Grans_2','Imm Grans 3':'Imm_Grans_3', 'NE#':'NE_c', 'LY#':'LY_c', 'MO#':'MO_c', 'EO#':'EO_c',\n",
    "       'BA#':'BA_c', 'NRBC#':'NRBC_c'})\n",
    "gender_one_hot = pd.get_dummies(CBC_data.Gender)\n",
    "CBC_data = pd.concat(axis=1, objs=[CBC_data, gender_one_hot])"
   ]
  },
  {
   "cell_type": "code",
   "execution_count": 136,
   "metadata": {
    "collapsed": true
   },
   "outputs": [],
   "source": [
    "CBC_data[\"WBC\"] = pd.to_numeric(CBC_data['WBC'], errors='coerce')\n",
    "CBC_data[\"LY\"] = pd.to_numeric(CBC_data['LY'], errors='coerce')\n",
    "CBC_data[\"BA_c\"] = pd.to_numeric(CBC_data['BA_c'], errors='coerce')\n",
    "CBC_data[\"NRBC\"] = pd.to_numeric(CBC_data['NRBC'], errors='coerce')\n",
    "CBC_data[\"NRBC_c\"] = pd.to_numeric(CBC_data['NRBC_c'], errors='coerce')\n",
    "CBC_data[\"MO_c\"] = pd.to_numeric(CBC_data['NRBC'], errors='coerce')\n",
    "CBC_data[\"NRBC_c\"] = pd.to_numeric(CBC_data['NRBC_c'], errors='coerce')\n",
    "CBC_data[\"MO_c\"] = pd.to_numeric(CBC_data['MO_c'], errors='coerce')\n",
    "CBC_data[\"EO_c\"] = pd.to_numeric(CBC_data['EO_c'], errors='coerce')\n",
    "CBC_data[\"Male\"] = pd.to_numeric(CBC_data['Male'], errors='coerce')\n",
    "CBC_data[\"Female\"] = pd.to_numeric(CBC_data['Female'], errors='coerce')"
   ]
  },
  {
   "cell_type": "code",
   "execution_count": 137,
   "metadata": {},
   "outputs": [
    {
     "name": "stdout",
     "output_type": "stream",
     "text": [
      "Dimension after filtering: (79270, 237)\n"
     ]
    }
   ],
   "source": [
    "left_shift_filter = CBC_data[\"Left Shift 3\"]==0\n",
    "wbc_filter = (CBC_data[\"WBC\"] <= 10) & (CBC_data['WBC'] >= 4)\n",
    "ly_filter = (CBC_data['LY'] <= 40) & (CBC_data['LY'] >= 20)\n",
    "keep = left_shift_filter & wbc_filter & ly_filter\n",
    "\n",
    "print(\"Dimension after filtering: {}\".format(CBC_data.loc[keep, :].shape))"
   ]
  },
  {
   "cell_type": "code",
   "execution_count": 138,
   "metadata": {},
   "outputs": [
    {
     "name": "stdout",
     "output_type": "stream",
     "text": [
      "去除感染的條件: (79270, 237)\n",
      "原始未去除感染: (302955, 237)\n"
     ]
    }
   ],
   "source": [
    "# cbc_data_normal 指去除掉感染以及發炎的範圍\n",
    "cbc_data_normal = CBC_data.loc[keep, :].copy()\n",
    "print(\"去除感染的條件: {}\".format(cbc_data_normal.shape))\n",
    "print(\"原始未去除感染: {}\".format(CBC_data.shape))"
   ]
  },
  {
   "cell_type": "markdown",
   "metadata": {},
   "source": [
    "feature selection"
   ]
  },
  {
   "cell_type": "code",
   "execution_count": 139,
   "metadata": {
    "collapsed": true
   },
   "outputs": [],
   "source": [
    "### row filter\n",
    "# normal case\n",
    "input_data = cbc_data_normal\n",
    "\n",
    "age_fil_unit = input_data[\"Age Unit\"] == 'Years'\n",
    "test_panel_fil_CD = (input_data['Test Panel'] == 'CD') | (input_data['Test Panel'] == 'CD RETIC')\n",
    "age_fil = input_data[\"Age\"] >= 30\n",
    "row_filter = age_fil & age_fil_unit & test_panel_fil_CD\n",
    "\n",
    "col_filter = [\"Specimen_ID\", \"Gender\", \"Male\", \"Female\", \"Age\", \"Blast\",'Imm_Grans_1', 'Imm_Grans_2','Imm_Grans_3',\n",
    "            \"WBC\", \"RBC\", \"HGB\", \"HCT\", \"MCV\", \"MCH\", \"MCHC\", \"RDW\", \"PLT\", \"MPV\", \"NE\", \"LY\", \n",
    "            \"MO\", \"EO\", \"BA\", \"NE_c\", \"LY_c\", \"MO_c\", \"EO_c\", \"BA_c\", \"NRBC\", \"NRBC_c\"]\n",
    "CBC_data_pa_normal = input_data[col_filter][row_filter.values].copy()\n",
    "\n",
    "numeric_index = np.repeat(a=True, repeats=CBC_data_pa_normal.shape[0])\n",
    "for i in range(3, 28):\n",
    "#     print(\"round:\", CBC_data_pa.columns[i])\n",
    "    is_num = []\n",
    "    CBC_data_pa_normal.iloc[:, i] = CBC_data_pa_normal.iloc[:, i].astype('str')\n",
    "    for element in [element for element in CBC_data_pa_normal.iloc[:, i]]:\n",
    "        element = str(element)[0]\n",
    "#     for string in CBC_data_pa.iloc[:, i].str.get(0):\n",
    "        tmp = element in ['0', '1', '2', '3', '4', '5', '6', '7', '8', '9']\n",
    "        #print(\"tmp:\", tmp, \"element:\", element)\n",
    "        is_num.append(tmp)\n",
    "#     print(sum(is_num))\n",
    "    numeric_index = [a and b for a, b in zip(numeric_index, is_num)]\n",
    "CBC_data_pa_normal = CBC_data_pa_normal[numeric_index]\n",
    "\n",
    "for i in range(3, 28):\n",
    "    #print(\"round:\", CBC_data_pa.columns[i])\n",
    "    CBC_data_pa_normal.iloc[:, i] = CBC_data_pa_normal.iloc[:, i].astype('float')"
   ]
  },
  {
   "cell_type": "code",
   "execution_count": 140,
   "metadata": {
    "collapsed": true
   },
   "outputs": [],
   "source": [
    "### row filter\n",
    "# All cases\n",
    "input_data = CBC_data\n",
    "\n",
    "age_fil_unit = input_data[\"Age Unit\"] == 'Years'\n",
    "test_panel_fil_CD = (input_data['Test Panel'] == 'CD') | (input_data['Test Panel'] == 'CD RETIC')\n",
    "age_fil = input_data[\"Age\"] >= 30\n",
    "row_filter = age_fil & age_fil_unit & test_panel_fil_CD\n",
    "\n",
    "col_filter = [\"Specimen_ID\", \"Gender\", \"Male\", \"Female\", \"Age\", \"Blast\",'Imm_Grans_1', 'Imm_Grans_2','Imm_Grans_3',\n",
    "            \"WBC\", \"RBC\", \"HGB\", \"HCT\", \"MCV\", \"MCH\", \"MCHC\", \"RDW\", \"PLT\", \"MPV\", \"NE\", \"LY\", \n",
    "            \"MO\", \"EO\", \"BA\", \"NE_c\", \"LY_c\", \"MO_c\", \"EO_c\", \"BA_c\", \"NRBC\", \"NRBC_c\"]\n",
    "CBC_data_pa = input_data[col_filter][row_filter.values].copy()\n",
    "\n",
    "numeric_index = np.repeat(a=True, repeats=CBC_data_pa.shape[0])\n",
    "for i in range(3, 28):\n",
    "#     print(\"round:\", CBC_data_pa.columns[i])\n",
    "    is_num = []\n",
    "    CBC_data_pa.iloc[:, i] = CBC_data_pa.iloc[:, i].astype('str')\n",
    "    for element in [element for element in CBC_data_pa.iloc[:, i]]:\n",
    "        element = str(element)[0]\n",
    "#     for string in CBC_data_pa.iloc[:, i].str.get(0):\n",
    "        tmp = element in ['0', '1', '2', '3', '4', '5', '6', '7', '8', '9']\n",
    "        #print(\"tmp:\", tmp, \"element:\", element)\n",
    "        is_num.append(tmp)\n",
    "#     print(sum(is_num))\n",
    "    numeric_index = [a and b for a, b in zip(numeric_index, is_num)]\n",
    "CBC_data_pa = CBC_data_pa[numeric_index]\n",
    "\n",
    "for i in range(3, 28):\n",
    "    #print(\"round:\", CBC_data_pa.columns[i])\n",
    "    CBC_data_pa.iloc[:, i] = CBC_data_pa.iloc[:, i].astype('float')"
   ]
  },
  {
   "cell_type": "code",
   "execution_count": 141,
   "metadata": {},
   "outputs": [
    {
     "name": "stdout",
     "output_type": "stream",
     "text": [
      "去除感染的條件: (63659, 31)\n",
      "原始未去除感染: (173034, 31)\n"
     ]
    }
   ],
   "source": [
    "print(\"去除感染的條件: {}\".format(CBC_data_pa_normal.shape))\n",
    "print(\"原始未去除感染: {}\".format(CBC_data_pa.shape))"
   ]
  },
  {
   "cell_type": "code",
   "execution_count": 142,
   "metadata": {},
   "outputs": [
    {
     "data": {
      "text/plain": [
       "(1118, 2)"
      ]
     },
     "execution_count": 142,
     "metadata": {},
     "output_type": "execute_result"
    }
   ],
   "source": [
    "### Blast count 處理\n",
    "accessnum_index = 3\n",
    "blast_count_index = 5\n",
    "blast_value_temp = blast_value.copy()\n",
    "blast_value_temp.iloc[:, accessnum_index] = blast_value_temp.iloc[:, accessnum_index].str.replace(\",\",\"\").str.replace(\".\",\"\")\n",
    "blast_value_temp = blast_value_temp.iloc[:, [accessnum_index, blast_count_index]]\n",
    "blast_value_temp = blast_value_temp.rename(columns={\"Accessnum\":\"Specimen_ID\"})\n",
    "blast_value_temp.shape"
   ]
  },
  {
   "cell_type": "code",
   "execution_count": 143,
   "metadata": {
    "collapsed": true
   },
   "outputs": [],
   "source": [
    "CBC_w_DC = pd.merge(left=CBC_data_pa, right=blast_value_temp, how='inner', on=\"Specimen_ID\")\n",
    "CBC_w_DC_normal = pd.merge(left=CBC_data_pa_normal, right=blast_value_temp, how='inner', on=\"Specimen_ID\")"
   ]
  },
  {
   "cell_type": "code",
   "execution_count": 144,
   "metadata": {},
   "outputs": [
    {
     "name": "stdout",
     "output_type": "stream",
     "text": [
      "去除感染的條件: (23, 32)\n",
      "原始未去除感染: (744, 32)\n"
     ]
    }
   ],
   "source": [
    "print(\"去除感染的條件: {}\".format(CBC_w_DC_normal.shape))\n",
    "print(\"原始未去除感染: {}\".format(CBC_w_DC.shape))"
   ]
  },
  {
   "cell_type": "markdown",
   "metadata": {},
   "source": [
    "資料集太小"
   ]
  },
  {
   "cell_type": "code",
   "execution_count": 145,
   "metadata": {
    "collapsed": true
   },
   "outputs": [],
   "source": [
    "# CBC_w_DC.to_csv(\"C:/Users/edwardchen/Desktop/cbc.csv\")"
   ]
  },
  {
   "cell_type": "code",
   "execution_count": 146,
   "metadata": {
    "collapsed": true
   },
   "outputs": [],
   "source": [
    "# plt.scatter(CBC_w_DC['WBC'], CBC_w_DC['Result'])\n",
    "# plt.show()"
   ]
  },
  {
   "cell_type": "markdown",
   "metadata": {},
   "source": [
    "Data with blast count"
   ]
  },
  {
   "cell_type": "code",
   "execution_count": 147,
   "metadata": {
    "collapsed": true
   },
   "outputs": [],
   "source": [
    "CBC_data_haveBlast_all = CBC_w_DC.copy()\n",
    "CBC_data_haveBlast_all = CBC_data_haveBlast_all.rename(columns={\"Specimen ID\":\"Specimen_ID\", \"Result\":\"blast_count\"})"
   ]
  },
  {
   "cell_type": "code",
   "execution_count": 148,
   "metadata": {},
   "outputs": [
    {
     "data": {
      "text/plain": [
       "(744, 32)"
      ]
     },
     "execution_count": 148,
     "metadata": {},
     "output_type": "execute_result"
    }
   ],
   "source": [
    "CBC_data_haveBlast_all.shape"
   ]
  },
  {
   "cell_type": "markdown",
   "metadata": {},
   "source": [
    "data w/o blast count"
   ]
  },
  {
   "cell_type": "code",
   "execution_count": 149,
   "metadata": {},
   "outputs": [],
   "source": [
    "col_filter = [\"Specimen_ID\", \"Male\", \"Female\", \"Age\", \n",
    "             \"WBC\", \"RBC\", \"HGB\", \"HCT\", \"MCV\", \"MCH\", \"MCHC\", \"RDW\", \"PLT\", \"MPV\", \"NE\", \"LY\", \n",
    "             \"MO\", \"EO\", \"BA\", \"NE_c\", \"LY_c\", \"MO_c\", \"EO_c\", \"BA_c\", \"NRBC\", \"NRBC_c\"]\n",
    "CBC_wo_DC = pd.merge(left=CBC_data_pa.loc[:, col_filter], right=blast_value_temp, how='left', on=\"Specimen_ID\")\n",
    "CBC_wo_DC = CBC_wo_DC[CBC_wo_DC.Result.isna()]"
   ]
  },
  {
   "cell_type": "code",
   "execution_count": 150,
   "metadata": {
    "scrolled": true
   },
   "outputs": [
    {
     "name": "stdout",
     "output_type": "stream",
     "text": [
      "CBC_data 大小:(173034, 31)\n",
      "w/o blast大小:(172290, 27)\n",
      "差距應該要等於 CBC_data_haveBlast_all : 744\n"
     ]
    }
   ],
   "source": [
    "print('CBC_data 大小:{}'.format(CBC_data_pa.shape))\n",
    "print('w/o blast大小:{}'.format(CBC_wo_DC.shape))\n",
    "print('差距應該要等於 CBC_data_haveBlast_all : {}'.format(CBC_data_pa.shape[0] - CBC_wo_DC.shape[0]))"
   ]
  },
  {
   "cell_type": "code",
   "execution_count": 151,
   "metadata": {
    "collapsed": true
   },
   "outputs": [],
   "source": [
    "CBC_wo_DC.Result = 0\n",
    "CBC_wo_DC = CBC_wo_DC.rename(columns={'Result':'blast_count'})"
   ]
  },
  {
   "cell_type": "code",
   "execution_count": 152,
   "metadata": {
    "collapsed": true
   },
   "outputs": [],
   "source": [
    "CBC_data_noBlast_all = CBC_wo_DC.copy()"
   ]
  },
  {
   "cell_type": "code",
   "execution_count": 153,
   "metadata": {},
   "outputs": [
    {
     "data": {
      "text/plain": [
       "(172290, 27)"
      ]
     },
     "execution_count": 153,
     "metadata": {},
     "output_type": "execute_result"
    }
   ],
   "source": [
    "CBC_data_noBlast_all.shape"
   ]
  },
  {
   "cell_type": "markdown",
   "metadata": {},
   "source": [
    "-. no blast external validation set"
   ]
  },
  {
   "cell_type": "code",
   "execution_count": 154,
   "metadata": {
    "collapsed": true
   },
   "outputs": [],
   "source": [
    "sample_count = CBC_data_haveBlast_all.shape[0]"
   ]
  },
  {
   "cell_type": "code",
   "execution_count": 155,
   "metadata": {
    "collapsed": true
   },
   "outputs": [],
   "source": [
    "'''\n",
    "從Dataframe抽出sample_count數量的樣本\n",
    "輸出: sample_count數量的records 和 剩下的其他records\n",
    "'''\n",
    "def simple_sampling(data_set, sample_count):\n",
    "    data_count = data_set.shape[0]\n",
    "    temp_index = np.random.choice(data_count, sample_count, replace=False)\n",
    "    train_set = data_set.iloc[temp_index, :]\n",
    "    test_set = data_set.drop(data_set.index[temp_index])\n",
    "    result_obj = {\"sample_set\":train_set, \"remain_set\":test_set}\n",
    "    return result_obj"
   ]
  },
  {
   "cell_type": "code",
   "execution_count": 156,
   "metadata": {
    "collapsed": true
   },
   "outputs": [],
   "source": [
    "temp_sampling_obj = simple_sampling(CBC_data_noBlast_all, sample_count)\n",
    "no_blast_test_set = temp_sampling_obj['sample_set']\n",
    "CBC_data_noBlast_all = temp_sampling_obj['remain_set']"
   ]
  },
  {
   "cell_type": "code",
   "execution_count": 157,
   "metadata": {},
   "outputs": [
    {
     "data": {
      "text/plain": [
       "(744, 27)"
      ]
     },
     "execution_count": 157,
     "metadata": {},
     "output_type": "execute_result"
    }
   ],
   "source": [
    "no_blast_test_set.shape"
   ]
  },
  {
   "cell_type": "markdown",
   "metadata": {},
   "source": [
    "Sampling"
   ]
  },
  {
   "cell_type": "code",
   "execution_count": 158,
   "metadata": {
    "collapsed": true
   },
   "outputs": [],
   "source": [
    "def even_sampling(blast_data_frame, sample_ratio= [0.8], resampling_flag=True):\n",
    "    \n",
    "    ## Resampling ???\n",
    "#     print(\"Resampling ...\\n\")    \n",
    "\n",
    "    ### Even\n",
    "    even_blast_obj = even_blast_level_with_validation_set(blast_data_frame, sample_ratio)\n",
    "    blast_training = pd.concat(\n",
    "        objs=[even_blast_obj['level_1_train_set'], even_blast_obj['level_2_train_set'], even_blast_obj['level_3_train_set']],\n",
    "        axis=0)\n",
    "    blast_validation = pd.concat(\n",
    "        objs=[even_blast_obj['level_1_validate_set'], even_blast_obj['level_2_validate_set'], even_blast_obj['level_3_validate_set']],\n",
    "        axis=0)\n",
    "    blast_testing = pd.concat(\n",
    "        objs=[even_blast_obj['level_1_test_set'], even_blast_obj['level_2_test_set'], even_blast_obj['level_3_test_set']],\n",
    "        axis=0)\n",
    "\n",
    "    result_obj = {\n",
    "        \"train_set\" : blast_training,\n",
    "        \"validation_set\" : blast_validation,\n",
    "        \"test_set\" : blast_testing\n",
    "    }\n",
    "\n",
    "    return(result_obj)\n"
   ]
  },
  {
   "cell_type": "code",
   "execution_count": 159,
   "metadata": {
    "collapsed": true
   },
   "outputs": [],
   "source": [
    "def even_blast_level_with_validation_set(CBC_data_haveBlast_all, temp_ratio=[0.8]):\n",
    "    # temp_ratio = c(0.8)\n",
    "    data_L_1 = CBC_data_haveBlast_all[CBC_data_haveBlast_all.blast_count < 5]\n",
    "    data_L_1 = data_L_1.assign(level=1)\n",
    "    data_L_2 = CBC_data_haveBlast_all[(CBC_data_haveBlast_all.blast_count >= 5) & (CBC_data_haveBlast_all.blast_count < 20)]\n",
    "    data_L_2 = data_L_2.assign(level=2)\n",
    "    data_L_3 = CBC_data_haveBlast_all[CBC_data_haveBlast_all.blast_count >=20]\n",
    "    data_L_3 = data_L_3.assign(level=3)\n",
    "\n",
    "    min_count = min(data_L_1.shape[0], data_L_2.shape[0], data_L_3.shape[0],)\n",
    "    sample_count = min_count * temp_ratio[0]\n",
    "    sample_count = np.floor(sample_count)\n",
    "    sample_count = int(sample_count)\n",
    "    \n",
    "    ### validation count\n",
    "    validation_count = 0 \n",
    "    if len(temp_ratio) > 1:\n",
    "        temp_count = min_count * temp_ratio[1]\n",
    "        validation_count = np.floor(temp_count)\n",
    "        validation_count = int(validation_count)\n",
    "    else:\n",
    "        temp_count = (min_count * (1 - temp_ratio[0])) // 2\n",
    "        validation_count = np.floor(temp_count)\n",
    "        validation_count = int(validation_count)\n",
    "\n",
    "    ### sampling\n",
    "    data_count = data_L_1.shape[0]\n",
    "    temp_set = simple_sampling(data_L_1, sample_count)\n",
    "    level_1_train = temp_set['sample_set']\n",
    "    remain_set = temp_set['remain_set']\n",
    "    temp_set = simple_sampling(remain_set, validation_count)\n",
    "    level_1_validate = temp_set['sample_set']\n",
    "    level_1_test = temp_set['remain_set']\n",
    "\n",
    "    data_count = data_L_2.shape[0]\n",
    "    temp_set = simple_sampling(data_L_2, sample_count)\n",
    "    level_2_train = temp_set['sample_set']\n",
    "    remain_set = temp_set['remain_set']\n",
    "    temp_set = simple_sampling(remain_set, validation_count)\n",
    "    level_2_validate = temp_set['sample_set']\n",
    "    level_2_test = temp_set['remain_set']\n",
    "\n",
    "    data_count = data_L_3.shape[0]\n",
    "    temp_set = simple_sampling(data_L_3, sample_count)\n",
    "    level_3_train = temp_set['sample_set']\n",
    "    remain_set = temp_set['remain_set']\n",
    "    temp_set = simple_sampling(remain_set, validation_count)\n",
    "    level_3_validate = temp_set['sample_set']\n",
    "    level_3_test = temp_set['remain_set']\n",
    "\n",
    "    result_obj = {\n",
    "        \"level_1_train_set\" : level_1_train,\n",
    "        \"level_2_train_set\" : level_2_train, \n",
    "        \"level_3_train_set\" : level_3_train,  \n",
    "        \"level_1_validate_set\" : level_1_validate,\n",
    "        \"level_2_validate_set\" : level_2_validate, \n",
    "        \"level_3_validate_set\" : level_3_validate,  \n",
    "        \"level_1_test_set\" : level_1_test,\n",
    "        \"level_2_test_set\" : level_2_test,\n",
    "        \"level_3_test_set\" : level_3_test\n",
    "        }\n",
    "\n",
    "    return(result_obj)"
   ]
  },
  {
   "cell_type": "code",
   "execution_count": 160,
   "metadata": {
    "collapsed": true
   },
   "outputs": [],
   "source": [
    "sample_ratio = [0.8, 0.1]\n",
    "resampling_flag = True\n",
    "\n",
    "sampling_obj = even_sampling(blast_data_frame=CBC_data_haveBlast_all, sample_ratio=sample_ratio, resampling_flag=resampling_flag)\n",
    "even_blast_training = sampling_obj['train_set']\n",
    "even_blast_testing = sampling_obj['test_set']\n",
    "even_blast_validation = sampling_obj['validation_set']\n",
    "\n",
    "### record external data pipeline\n",
    "# remain_set = record_external_data_pipeline(external_test_file, CBC_data_haveBlast_all, even_blast_testing)\n",
    "# remain_set = record_external_data_pipeline(external_train_file, remain_set, even_blast_training)\n",
    "# remain_set = record_external_data_pipeline(external_validate_file, remain_set, even_blast_validation)"
   ]
  },
  {
   "cell_type": "code",
   "execution_count": 161,
   "metadata": {},
   "outputs": [
    {
     "name": "stdout",
     "output_type": "stream",
     "text": [
      "training set: (411, 33)\n",
      "testing set: (282, 33)\n",
      "validation set: (51, 33)\n"
     ]
    }
   ],
   "source": [
    "print('training set: {}'.format(even_blast_training.shape))\n",
    "print('testing set: {}'.format(even_blast_testing.shape))\n",
    "print('validation set: {}'.format(even_blast_validation.shape))"
   ]
  },
  {
   "cell_type": "markdown",
   "metadata": {},
   "source": [
    "Apply tensorflow modeling"
   ]
  },
  {
   "cell_type": "code",
   "execution_count": 163,
   "metadata": {
    "collapsed": true
   },
   "outputs": [],
   "source": [
    "def preprocess_features(even_blast_dataframe):\n",
    "\n",
    "  selected_features = even_blast_dataframe[\n",
    "    [\"Male\", \"Female\", 'Age', 'Blast', 'Imm_Grans_1', 'Imm_Grans_2',\n",
    "       'Imm_Grans_3', 'WBC', 'RBC', 'HGB', 'HCT', 'MCV', 'MCH', 'MCHC', 'RDW',\n",
    "       'PLT', 'MPV', 'NE', 'LY', 'MO', 'EO', 'BA', 'NE_c', 'LY_c', 'MO_c', 'EO_c',\n",
    "       'BA_c', 'NRBC', 'NRBC_c']]\n",
    "  processed_features = selected_features.copy()\n",
    "  # Create a synthetic feature.\n",
    "  return processed_features\n",
    "\n",
    "def preprocess_targets(even_blast_dataframe):\n",
    "  \"\"\"\n",
    "  Returns:\n",
    "    A DataFrame that contains the target feature.\n",
    "  \"\"\"\n",
    "  output_targets = pd.DataFrame()\n",
    "  # Scale the target to be in units of thousands of dollars.\n",
    "  output_targets[\"blast_count\"] = even_blast_dataframe[\"blast_count\"]\n",
    "  return output_targets"
   ]
  },
  {
   "cell_type": "code",
   "execution_count": 164,
   "metadata": {},
   "outputs": [
    {
     "name": "stdout",
     "output_type": "stream",
     "text": [
      "Training examples summary:\n"
     ]
    },
    {
     "data": {
      "text/html": [
       "<div>\n",
       "<style scoped>\n",
       "    .dataframe tbody tr th:only-of-type {\n",
       "        vertical-align: middle;\n",
       "    }\n",
       "\n",
       "    .dataframe tbody tr th {\n",
       "        vertical-align: top;\n",
       "    }\n",
       "\n",
       "    .dataframe thead th {\n",
       "        text-align: right;\n",
       "    }\n",
       "</style>\n",
       "<table border=\"1\" class=\"dataframe\">\n",
       "  <thead>\n",
       "    <tr style=\"text-align: right;\">\n",
       "      <th></th>\n",
       "      <th>Male</th>\n",
       "      <th>Female</th>\n",
       "      <th>Age</th>\n",
       "      <th>Blast</th>\n",
       "      <th>Imm_Grans_1</th>\n",
       "      <th>Imm_Grans_2</th>\n",
       "      <th>Imm_Grans_3</th>\n",
       "      <th>WBC</th>\n",
       "      <th>RBC</th>\n",
       "      <th>HGB</th>\n",
       "      <th>...</th>\n",
       "      <th>MO</th>\n",
       "      <th>EO</th>\n",
       "      <th>BA</th>\n",
       "      <th>NE_c</th>\n",
       "      <th>LY_c</th>\n",
       "      <th>MO_c</th>\n",
       "      <th>EO_c</th>\n",
       "      <th>BA_c</th>\n",
       "      <th>NRBC</th>\n",
       "      <th>NRBC_c</th>\n",
       "    </tr>\n",
       "  </thead>\n",
       "  <tbody>\n",
       "    <tr>\n",
       "      <th>count</th>\n",
       "      <td>411.0</td>\n",
       "      <td>411.0</td>\n",
       "      <td>411.0</td>\n",
       "      <td>411.0</td>\n",
       "      <td>411.0</td>\n",
       "      <td>411.0</td>\n",
       "      <td>411.0</td>\n",
       "      <td>411.0</td>\n",
       "      <td>411.0</td>\n",
       "      <td>411.0</td>\n",
       "      <td>...</td>\n",
       "      <td>411.0</td>\n",
       "      <td>411.0</td>\n",
       "      <td>411.0</td>\n",
       "      <td>411.0</td>\n",
       "      <td>411.0</td>\n",
       "      <td>411.0</td>\n",
       "      <td>411.0</td>\n",
       "      <td>411.0</td>\n",
       "      <td>411.0</td>\n",
       "      <td>411.0</td>\n",
       "    </tr>\n",
       "    <tr>\n",
       "      <th>mean</th>\n",
       "      <td>0.4</td>\n",
       "      <td>0.6</td>\n",
       "      <td>67.8</td>\n",
       "      <td>0.7</td>\n",
       "      <td>0.6</td>\n",
       "      <td>0.6</td>\n",
       "      <td>0.7</td>\n",
       "      <td>19.3</td>\n",
       "      <td>2.9</td>\n",
       "      <td>8.3</td>\n",
       "      <td>...</td>\n",
       "      <td>24.5</td>\n",
       "      <td>1.6</td>\n",
       "      <td>0.9</td>\n",
       "      <td>7.5</td>\n",
       "      <td>3.9</td>\n",
       "      <td>1.0</td>\n",
       "      <td>0.3</td>\n",
       "      <td>0.2</td>\n",
       "      <td>1.0</td>\n",
       "      <td>0.1</td>\n",
       "    </tr>\n",
       "    <tr>\n",
       "      <th>std</th>\n",
       "      <td>0.5</td>\n",
       "      <td>0.5</td>\n",
       "      <td>13.8</td>\n",
       "      <td>0.5</td>\n",
       "      <td>0.5</td>\n",
       "      <td>0.5</td>\n",
       "      <td>0.5</td>\n",
       "      <td>44.1</td>\n",
       "      <td>0.7</td>\n",
       "      <td>1.9</td>\n",
       "      <td>...</td>\n",
       "      <td>25.6</td>\n",
       "      <td>5.0</td>\n",
       "      <td>2.3</td>\n",
       "      <td>26.4</td>\n",
       "      <td>18.1</td>\n",
       "      <td>4.3</td>\n",
       "      <td>3.2</td>\n",
       "      <td>1.1</td>\n",
       "      <td>4.3</td>\n",
       "      <td>0.5</td>\n",
       "    </tr>\n",
       "    <tr>\n",
       "      <th>min</th>\n",
       "      <td>0.0</td>\n",
       "      <td>0.0</td>\n",
       "      <td>30.0</td>\n",
       "      <td>0.0</td>\n",
       "      <td>0.0</td>\n",
       "      <td>0.0</td>\n",
       "      <td>0.0</td>\n",
       "      <td>0.1</td>\n",
       "      <td>0.6</td>\n",
       "      <td>1.4</td>\n",
       "      <td>...</td>\n",
       "      <td>0.0</td>\n",
       "      <td>0.0</td>\n",
       "      <td>0.0</td>\n",
       "      <td>0.0</td>\n",
       "      <td>0.0</td>\n",
       "      <td>0.0</td>\n",
       "      <td>0.0</td>\n",
       "      <td>0.0</td>\n",
       "      <td>0.0</td>\n",
       "      <td>0.0</td>\n",
       "    </tr>\n",
       "    <tr>\n",
       "      <th>25%</th>\n",
       "      <td>0.0</td>\n",
       "      <td>0.0</td>\n",
       "      <td>58.0</td>\n",
       "      <td>0.0</td>\n",
       "      <td>0.0</td>\n",
       "      <td>0.0</td>\n",
       "      <td>0.0</td>\n",
       "      <td>1.9</td>\n",
       "      <td>2.4</td>\n",
       "      <td>7.2</td>\n",
       "      <td>...</td>\n",
       "      <td>4.2</td>\n",
       "      <td>0.1</td>\n",
       "      <td>0.1</td>\n",
       "      <td>0.4</td>\n",
       "      <td>0.7</td>\n",
       "      <td>0.1</td>\n",
       "      <td>0.0</td>\n",
       "      <td>0.0</td>\n",
       "      <td>0.1</td>\n",
       "      <td>0.0</td>\n",
       "    </tr>\n",
       "    <tr>\n",
       "      <th>50%</th>\n",
       "      <td>0.0</td>\n",
       "      <td>1.0</td>\n",
       "      <td>74.0</td>\n",
       "      <td>1.0</td>\n",
       "      <td>1.0</td>\n",
       "      <td>1.0</td>\n",
       "      <td>1.0</td>\n",
       "      <td>4.8</td>\n",
       "      <td>2.8</td>\n",
       "      <td>8.2</td>\n",
       "      <td>...</td>\n",
       "      <td>12.9</td>\n",
       "      <td>0.5</td>\n",
       "      <td>0.4</td>\n",
       "      <td>1.5</td>\n",
       "      <td>1.2</td>\n",
       "      <td>0.3</td>\n",
       "      <td>0.0</td>\n",
       "      <td>0.0</td>\n",
       "      <td>0.3</td>\n",
       "      <td>0.0</td>\n",
       "    </tr>\n",
       "    <tr>\n",
       "      <th>75%</th>\n",
       "      <td>1.0</td>\n",
       "      <td>1.0</td>\n",
       "      <td>77.0</td>\n",
       "      <td>1.0</td>\n",
       "      <td>1.0</td>\n",
       "      <td>1.0</td>\n",
       "      <td>1.0</td>\n",
       "      <td>11.7</td>\n",
       "      <td>3.3</td>\n",
       "      <td>9.4</td>\n",
       "      <td>...</td>\n",
       "      <td>37.9</td>\n",
       "      <td>1.2</td>\n",
       "      <td>0.9</td>\n",
       "      <td>5.5</td>\n",
       "      <td>2.0</td>\n",
       "      <td>0.7</td>\n",
       "      <td>0.1</td>\n",
       "      <td>0.1</td>\n",
       "      <td>0.7</td>\n",
       "      <td>0.0</td>\n",
       "    </tr>\n",
       "    <tr>\n",
       "      <th>max</th>\n",
       "      <td>1.0</td>\n",
       "      <td>1.0</td>\n",
       "      <td>91.0</td>\n",
       "      <td>1.0</td>\n",
       "      <td>1.0</td>\n",
       "      <td>1.0</td>\n",
       "      <td>1.0</td>\n",
       "      <td>465.0</td>\n",
       "      <td>5.3</td>\n",
       "      <td>13.4</td>\n",
       "      <td>...</td>\n",
       "      <td>97.6</td>\n",
       "      <td>85.8</td>\n",
       "      <td>27.9</td>\n",
       "      <td>413.9</td>\n",
       "      <td>189.8</td>\n",
       "      <td>57.3</td>\n",
       "      <td>57.6</td>\n",
       "      <td>12.3</td>\n",
       "      <td>57.3</td>\n",
       "      <td>6.2</td>\n",
       "    </tr>\n",
       "  </tbody>\n",
       "</table>\n",
       "<p>8 rows × 29 columns</p>\n",
       "</div>"
      ],
      "text/plain": [
       "       Male  Female   Age  Blast  Imm_Grans_1  Imm_Grans_2  Imm_Grans_3   WBC  \\\n",
       "count 411.0   411.0 411.0  411.0        411.0        411.0        411.0 411.0   \n",
       "mean    0.4     0.6  67.8    0.7          0.6          0.6          0.7  19.3   \n",
       "std     0.5     0.5  13.8    0.5          0.5          0.5          0.5  44.1   \n",
       "min     0.0     0.0  30.0    0.0          0.0          0.0          0.0   0.1   \n",
       "25%     0.0     0.0  58.0    0.0          0.0          0.0          0.0   1.9   \n",
       "50%     0.0     1.0  74.0    1.0          1.0          1.0          1.0   4.8   \n",
       "75%     1.0     1.0  77.0    1.0          1.0          1.0          1.0  11.7   \n",
       "max     1.0     1.0  91.0    1.0          1.0          1.0          1.0 465.0   \n",
       "\n",
       "        RBC   HGB   ...      MO    EO    BA  NE_c  LY_c  MO_c  EO_c  BA_c  \\\n",
       "count 411.0 411.0   ...   411.0 411.0 411.0 411.0 411.0 411.0 411.0 411.0   \n",
       "mean    2.9   8.3   ...    24.5   1.6   0.9   7.5   3.9   1.0   0.3   0.2   \n",
       "std     0.7   1.9   ...    25.6   5.0   2.3  26.4  18.1   4.3   3.2   1.1   \n",
       "min     0.6   1.4   ...     0.0   0.0   0.0   0.0   0.0   0.0   0.0   0.0   \n",
       "25%     2.4   7.2   ...     4.2   0.1   0.1   0.4   0.7   0.1   0.0   0.0   \n",
       "50%     2.8   8.2   ...    12.9   0.5   0.4   1.5   1.2   0.3   0.0   0.0   \n",
       "75%     3.3   9.4   ...    37.9   1.2   0.9   5.5   2.0   0.7   0.1   0.1   \n",
       "max     5.3  13.4   ...    97.6  85.8  27.9 413.9 189.8  57.3  57.6  12.3   \n",
       "\n",
       "       NRBC  NRBC_c  \n",
       "count 411.0   411.0  \n",
       "mean    1.0     0.1  \n",
       "std     4.3     0.5  \n",
       "min     0.0     0.0  \n",
       "25%     0.1     0.0  \n",
       "50%     0.3     0.0  \n",
       "75%     0.7     0.0  \n",
       "max    57.3     6.2  \n",
       "\n",
       "[8 rows x 29 columns]"
      ]
     },
     "metadata": {},
     "output_type": "display_data"
    },
    {
     "name": "stdout",
     "output_type": "stream",
     "text": [
      "Validation examples summary:\n"
     ]
    },
    {
     "data": {
      "text/html": [
       "<div>\n",
       "<style scoped>\n",
       "    .dataframe tbody tr th:only-of-type {\n",
       "        vertical-align: middle;\n",
       "    }\n",
       "\n",
       "    .dataframe tbody tr th {\n",
       "        vertical-align: top;\n",
       "    }\n",
       "\n",
       "    .dataframe thead th {\n",
       "        text-align: right;\n",
       "    }\n",
       "</style>\n",
       "<table border=\"1\" class=\"dataframe\">\n",
       "  <thead>\n",
       "    <tr style=\"text-align: right;\">\n",
       "      <th></th>\n",
       "      <th>Male</th>\n",
       "      <th>Female</th>\n",
       "      <th>Age</th>\n",
       "      <th>Blast</th>\n",
       "      <th>Imm_Grans_1</th>\n",
       "      <th>Imm_Grans_2</th>\n",
       "      <th>Imm_Grans_3</th>\n",
       "      <th>WBC</th>\n",
       "      <th>RBC</th>\n",
       "      <th>HGB</th>\n",
       "      <th>...</th>\n",
       "      <th>MO</th>\n",
       "      <th>EO</th>\n",
       "      <th>BA</th>\n",
       "      <th>NE_c</th>\n",
       "      <th>LY_c</th>\n",
       "      <th>MO_c</th>\n",
       "      <th>EO_c</th>\n",
       "      <th>BA_c</th>\n",
       "      <th>NRBC</th>\n",
       "      <th>NRBC_c</th>\n",
       "    </tr>\n",
       "  </thead>\n",
       "  <tbody>\n",
       "    <tr>\n",
       "      <th>count</th>\n",
       "      <td>51.0</td>\n",
       "      <td>51.0</td>\n",
       "      <td>51.0</td>\n",
       "      <td>51.0</td>\n",
       "      <td>51.0</td>\n",
       "      <td>51.0</td>\n",
       "      <td>51.0</td>\n",
       "      <td>51.0</td>\n",
       "      <td>51.0</td>\n",
       "      <td>51.0</td>\n",
       "      <td>...</td>\n",
       "      <td>51.0</td>\n",
       "      <td>51.0</td>\n",
       "      <td>51.0</td>\n",
       "      <td>51.0</td>\n",
       "      <td>51.0</td>\n",
       "      <td>51.0</td>\n",
       "      <td>51.0</td>\n",
       "      <td>51.0</td>\n",
       "      <td>51.0</td>\n",
       "      <td>51.0</td>\n",
       "    </tr>\n",
       "    <tr>\n",
       "      <th>mean</th>\n",
       "      <td>0.3</td>\n",
       "      <td>0.7</td>\n",
       "      <td>67.2</td>\n",
       "      <td>0.6</td>\n",
       "      <td>0.5</td>\n",
       "      <td>0.6</td>\n",
       "      <td>0.6</td>\n",
       "      <td>17.9</td>\n",
       "      <td>2.8</td>\n",
       "      <td>8.3</td>\n",
       "      <td>...</td>\n",
       "      <td>24.6</td>\n",
       "      <td>2.8</td>\n",
       "      <td>0.6</td>\n",
       "      <td>3.4</td>\n",
       "      <td>6.5</td>\n",
       "      <td>1.7</td>\n",
       "      <td>1.2</td>\n",
       "      <td>0.1</td>\n",
       "      <td>1.7</td>\n",
       "      <td>0.1</td>\n",
       "    </tr>\n",
       "    <tr>\n",
       "      <th>std</th>\n",
       "      <td>0.5</td>\n",
       "      <td>0.5</td>\n",
       "      <td>14.6</td>\n",
       "      <td>0.5</td>\n",
       "      <td>0.5</td>\n",
       "      <td>0.5</td>\n",
       "      <td>0.5</td>\n",
       "      <td>40.3</td>\n",
       "      <td>0.7</td>\n",
       "      <td>1.9</td>\n",
       "      <td>...</td>\n",
       "      <td>27.2</td>\n",
       "      <td>11.0</td>\n",
       "      <td>0.9</td>\n",
       "      <td>4.7</td>\n",
       "      <td>26.1</td>\n",
       "      <td>6.9</td>\n",
       "      <td>7.9</td>\n",
       "      <td>0.6</td>\n",
       "      <td>6.9</td>\n",
       "      <td>0.4</td>\n",
       "    </tr>\n",
       "    <tr>\n",
       "      <th>min</th>\n",
       "      <td>0.0</td>\n",
       "      <td>0.0</td>\n",
       "      <td>31.0</td>\n",
       "      <td>0.0</td>\n",
       "      <td>0.0</td>\n",
       "      <td>0.0</td>\n",
       "      <td>0.0</td>\n",
       "      <td>0.2</td>\n",
       "      <td>1.0</td>\n",
       "      <td>3.1</td>\n",
       "      <td>...</td>\n",
       "      <td>0.0</td>\n",
       "      <td>0.0</td>\n",
       "      <td>0.0</td>\n",
       "      <td>0.0</td>\n",
       "      <td>0.0</td>\n",
       "      <td>0.0</td>\n",
       "      <td>0.0</td>\n",
       "      <td>0.0</td>\n",
       "      <td>0.0</td>\n",
       "      <td>0.0</td>\n",
       "    </tr>\n",
       "    <tr>\n",
       "      <th>25%</th>\n",
       "      <td>0.0</td>\n",
       "      <td>0.0</td>\n",
       "      <td>59.0</td>\n",
       "      <td>0.0</td>\n",
       "      <td>0.0</td>\n",
       "      <td>0.0</td>\n",
       "      <td>0.0</td>\n",
       "      <td>1.9</td>\n",
       "      <td>2.4</td>\n",
       "      <td>7.4</td>\n",
       "      <td>...</td>\n",
       "      <td>5.4</td>\n",
       "      <td>0.1</td>\n",
       "      <td>0.1</td>\n",
       "      <td>0.5</td>\n",
       "      <td>0.6</td>\n",
       "      <td>0.1</td>\n",
       "      <td>0.0</td>\n",
       "      <td>0.0</td>\n",
       "      <td>0.1</td>\n",
       "      <td>0.0</td>\n",
       "    </tr>\n",
       "    <tr>\n",
       "      <th>50%</th>\n",
       "      <td>0.0</td>\n",
       "      <td>1.0</td>\n",
       "      <td>74.0</td>\n",
       "      <td>1.0</td>\n",
       "      <td>1.0</td>\n",
       "      <td>1.0</td>\n",
       "      <td>1.0</td>\n",
       "      <td>4.0</td>\n",
       "      <td>2.9</td>\n",
       "      <td>8.4</td>\n",
       "      <td>...</td>\n",
       "      <td>13.9</td>\n",
       "      <td>0.1</td>\n",
       "      <td>0.3</td>\n",
       "      <td>1.2</td>\n",
       "      <td>1.1</td>\n",
       "      <td>0.3</td>\n",
       "      <td>0.0</td>\n",
       "      <td>0.0</td>\n",
       "      <td>0.3</td>\n",
       "      <td>0.0</td>\n",
       "    </tr>\n",
       "    <tr>\n",
       "      <th>75%</th>\n",
       "      <td>1.0</td>\n",
       "      <td>1.0</td>\n",
       "      <td>77.0</td>\n",
       "      <td>1.0</td>\n",
       "      <td>1.0</td>\n",
       "      <td>1.0</td>\n",
       "      <td>1.0</td>\n",
       "      <td>9.8</td>\n",
       "      <td>3.3</td>\n",
       "      <td>9.6</td>\n",
       "      <td>...</td>\n",
       "      <td>34.1</td>\n",
       "      <td>1.3</td>\n",
       "      <td>0.7</td>\n",
       "      <td>3.9</td>\n",
       "      <td>1.6</td>\n",
       "      <td>0.6</td>\n",
       "      <td>0.1</td>\n",
       "      <td>0.0</td>\n",
       "      <td>0.6</td>\n",
       "      <td>0.1</td>\n",
       "    </tr>\n",
       "    <tr>\n",
       "      <th>max</th>\n",
       "      <td>1.0</td>\n",
       "      <td>1.0</td>\n",
       "      <td>87.0</td>\n",
       "      <td>1.0</td>\n",
       "      <td>1.0</td>\n",
       "      <td>1.0</td>\n",
       "      <td>1.0</td>\n",
       "      <td>201.3</td>\n",
       "      <td>4.2</td>\n",
       "      <td>12.2</td>\n",
       "      <td>...</td>\n",
       "      <td>96.1</td>\n",
       "      <td>76.6</td>\n",
       "      <td>5.0</td>\n",
       "      <td>22.6</td>\n",
       "      <td>182.4</td>\n",
       "      <td>48.3</td>\n",
       "      <td>56.8</td>\n",
       "      <td>3.8</td>\n",
       "      <td>48.3</td>\n",
       "      <td>2.9</td>\n",
       "    </tr>\n",
       "  </tbody>\n",
       "</table>\n",
       "<p>8 rows × 29 columns</p>\n",
       "</div>"
      ],
      "text/plain": [
       "       Male  Female  Age  Blast  Imm_Grans_1  Imm_Grans_2  Imm_Grans_3   WBC  \\\n",
       "count  51.0    51.0 51.0   51.0         51.0         51.0         51.0  51.0   \n",
       "mean    0.3     0.7 67.2    0.6          0.5          0.6          0.6  17.9   \n",
       "std     0.5     0.5 14.6    0.5          0.5          0.5          0.5  40.3   \n",
       "min     0.0     0.0 31.0    0.0          0.0          0.0          0.0   0.2   \n",
       "25%     0.0     0.0 59.0    0.0          0.0          0.0          0.0   1.9   \n",
       "50%     0.0     1.0 74.0    1.0          1.0          1.0          1.0   4.0   \n",
       "75%     1.0     1.0 77.0    1.0          1.0          1.0          1.0   9.8   \n",
       "max     1.0     1.0 87.0    1.0          1.0          1.0          1.0 201.3   \n",
       "\n",
       "       RBC  HGB   ...     MO   EO   BA  NE_c  LY_c  MO_c  EO_c  BA_c  NRBC  \\\n",
       "count 51.0 51.0   ...   51.0 51.0 51.0  51.0  51.0  51.0  51.0  51.0  51.0   \n",
       "mean   2.8  8.3   ...   24.6  2.8  0.6   3.4   6.5   1.7   1.2   0.1   1.7   \n",
       "std    0.7  1.9   ...   27.2 11.0  0.9   4.7  26.1   6.9   7.9   0.6   6.9   \n",
       "min    1.0  3.1   ...    0.0  0.0  0.0   0.0   0.0   0.0   0.0   0.0   0.0   \n",
       "25%    2.4  7.4   ...    5.4  0.1  0.1   0.5   0.6   0.1   0.0   0.0   0.1   \n",
       "50%    2.9  8.4   ...   13.9  0.1  0.3   1.2   1.1   0.3   0.0   0.0   0.3   \n",
       "75%    3.3  9.6   ...   34.1  1.3  0.7   3.9   1.6   0.6   0.1   0.0   0.6   \n",
       "max    4.2 12.2   ...   96.1 76.6  5.0  22.6 182.4  48.3  56.8   3.8  48.3   \n",
       "\n",
       "       NRBC_c  \n",
       "count    51.0  \n",
       "mean      0.1  \n",
       "std       0.4  \n",
       "min       0.0  \n",
       "25%       0.0  \n",
       "50%       0.0  \n",
       "75%       0.1  \n",
       "max       2.9  \n",
       "\n",
       "[8 rows x 29 columns]"
      ]
     },
     "metadata": {},
     "output_type": "display_data"
    },
    {
     "name": "stdout",
     "output_type": "stream",
     "text": [
      "Training targets summary:\n"
     ]
    },
    {
     "data": {
      "text/html": [
       "<div>\n",
       "<style scoped>\n",
       "    .dataframe tbody tr th:only-of-type {\n",
       "        vertical-align: middle;\n",
       "    }\n",
       "\n",
       "    .dataframe tbody tr th {\n",
       "        vertical-align: top;\n",
       "    }\n",
       "\n",
       "    .dataframe thead th {\n",
       "        text-align: right;\n",
       "    }\n",
       "</style>\n",
       "<table border=\"1\" class=\"dataframe\">\n",
       "  <thead>\n",
       "    <tr style=\"text-align: right;\">\n",
       "      <th></th>\n",
       "      <th>blast_count</th>\n",
       "    </tr>\n",
       "  </thead>\n",
       "  <tbody>\n",
       "    <tr>\n",
       "      <th>count</th>\n",
       "      <td>411.0</td>\n",
       "    </tr>\n",
       "    <tr>\n",
       "      <th>mean</th>\n",
       "      <td>19.5</td>\n",
       "    </tr>\n",
       "    <tr>\n",
       "      <th>std</th>\n",
       "      <td>23.2</td>\n",
       "    </tr>\n",
       "    <tr>\n",
       "      <th>min</th>\n",
       "      <td>1.0</td>\n",
       "    </tr>\n",
       "    <tr>\n",
       "      <th>25%</th>\n",
       "      <td>2.0</td>\n",
       "    </tr>\n",
       "    <tr>\n",
       "      <th>50%</th>\n",
       "      <td>9.0</td>\n",
       "    </tr>\n",
       "    <tr>\n",
       "      <th>75%</th>\n",
       "      <td>27.0</td>\n",
       "    </tr>\n",
       "    <tr>\n",
       "      <th>max</th>\n",
       "      <td>95.0</td>\n",
       "    </tr>\n",
       "  </tbody>\n",
       "</table>\n",
       "</div>"
      ],
      "text/plain": [
       "       blast_count\n",
       "count        411.0\n",
       "mean          19.5\n",
       "std           23.2\n",
       "min            1.0\n",
       "25%            2.0\n",
       "50%            9.0\n",
       "75%           27.0\n",
       "max           95.0"
      ]
     },
     "metadata": {},
     "output_type": "display_data"
    },
    {
     "name": "stdout",
     "output_type": "stream",
     "text": [
      "Validation targets summary:\n"
     ]
    },
    {
     "data": {
      "text/html": [
       "<div>\n",
       "<style scoped>\n",
       "    .dataframe tbody tr th:only-of-type {\n",
       "        vertical-align: middle;\n",
       "    }\n",
       "\n",
       "    .dataframe tbody tr th {\n",
       "        vertical-align: top;\n",
       "    }\n",
       "\n",
       "    .dataframe thead th {\n",
       "        text-align: right;\n",
       "    }\n",
       "</style>\n",
       "<table border=\"1\" class=\"dataframe\">\n",
       "  <thead>\n",
       "    <tr style=\"text-align: right;\">\n",
       "      <th></th>\n",
       "      <th>blast_count</th>\n",
       "    </tr>\n",
       "  </thead>\n",
       "  <tbody>\n",
       "    <tr>\n",
       "      <th>count</th>\n",
       "      <td>51.0</td>\n",
       "    </tr>\n",
       "    <tr>\n",
       "      <th>mean</th>\n",
       "      <td>21.7</td>\n",
       "    </tr>\n",
       "    <tr>\n",
       "      <th>std</th>\n",
       "      <td>26.6</td>\n",
       "    </tr>\n",
       "    <tr>\n",
       "      <th>min</th>\n",
       "      <td>1.0</td>\n",
       "    </tr>\n",
       "    <tr>\n",
       "      <th>25%</th>\n",
       "      <td>2.0</td>\n",
       "    </tr>\n",
       "    <tr>\n",
       "      <th>50%</th>\n",
       "      <td>9.0</td>\n",
       "    </tr>\n",
       "    <tr>\n",
       "      <th>75%</th>\n",
       "      <td>33.0</td>\n",
       "    </tr>\n",
       "    <tr>\n",
       "      <th>max</th>\n",
       "      <td>95.0</td>\n",
       "    </tr>\n",
       "  </tbody>\n",
       "</table>\n",
       "</div>"
      ],
      "text/plain": [
       "       blast_count\n",
       "count         51.0\n",
       "mean          21.7\n",
       "std           26.6\n",
       "min            1.0\n",
       "25%            2.0\n",
       "50%            9.0\n",
       "75%           33.0\n",
       "max           95.0"
      ]
     },
     "metadata": {},
     "output_type": "display_data"
    }
   ],
   "source": [
    "# Choose the first 12000 (out of 17000) examples for training.\n",
    "training_examples = preprocess_features(even_blast_training)\n",
    "training_targets = preprocess_targets(even_blast_training)\n",
    "\n",
    "# Choose the last 5000 (out of 17000) examples for validation.\n",
    "validation_examples = preprocess_features(even_blast_validation)\n",
    "validation_targets = preprocess_targets(even_blast_validation)\n",
    "\n",
    "# Double-check that we've done the right thing.\n",
    "print (\"Training examples summary:\")\n",
    "display.display(training_examples.describe())\n",
    "print (\"Validation examples summary:\")\n",
    "display.display(validation_examples.describe())\n",
    "\n",
    "print (\"Training targets summary:\")\n",
    "display.display(training_targets.describe())\n",
    "print (\"Validation targets summary:\")\n",
    "display.display(validation_targets.describe())"
   ]
  },
  {
   "cell_type": "markdown",
   "metadata": {},
   "source": [
    "觀察correaltion"
   ]
  },
  {
   "cell_type": "code",
   "execution_count": 165,
   "metadata": {},
   "outputs": [
    {
     "data": {
      "text/html": [
       "<div>\n",
       "<style scoped>\n",
       "    .dataframe tbody tr th:only-of-type {\n",
       "        vertical-align: middle;\n",
       "    }\n",
       "\n",
       "    .dataframe tbody tr th {\n",
       "        vertical-align: top;\n",
       "    }\n",
       "\n",
       "    .dataframe thead th {\n",
       "        text-align: right;\n",
       "    }\n",
       "</style>\n",
       "<table border=\"1\" class=\"dataframe\">\n",
       "  <thead>\n",
       "    <tr style=\"text-align: right;\">\n",
       "      <th></th>\n",
       "      <th>Male</th>\n",
       "      <th>Female</th>\n",
       "      <th>Age</th>\n",
       "      <th>Blast</th>\n",
       "      <th>Imm_Grans_1</th>\n",
       "      <th>Imm_Grans_2</th>\n",
       "      <th>Imm_Grans_3</th>\n",
       "      <th>WBC</th>\n",
       "      <th>RBC</th>\n",
       "      <th>HGB</th>\n",
       "      <th>...</th>\n",
       "      <th>EO</th>\n",
       "      <th>BA</th>\n",
       "      <th>NE_c</th>\n",
       "      <th>LY_c</th>\n",
       "      <th>MO_c</th>\n",
       "      <th>EO_c</th>\n",
       "      <th>BA_c</th>\n",
       "      <th>NRBC</th>\n",
       "      <th>NRBC_c</th>\n",
       "      <th>target</th>\n",
       "    </tr>\n",
       "  </thead>\n",
       "  <tbody>\n",
       "    <tr>\n",
       "      <th>Male</th>\n",
       "      <td>1.0</td>\n",
       "      <td>-1.0</td>\n",
       "      <td>0.2</td>\n",
       "      <td>0.1</td>\n",
       "      <td>0.1</td>\n",
       "      <td>0.1</td>\n",
       "      <td>0.1</td>\n",
       "      <td>0.1</td>\n",
       "      <td>0.1</td>\n",
       "      <td>0.1</td>\n",
       "      <td>...</td>\n",
       "      <td>0.1</td>\n",
       "      <td>0.1</td>\n",
       "      <td>0.1</td>\n",
       "      <td>0.0</td>\n",
       "      <td>-0.0</td>\n",
       "      <td>0.1</td>\n",
       "      <td>0.1</td>\n",
       "      <td>-0.0</td>\n",
       "      <td>0.0</td>\n",
       "      <td>-0.1</td>\n",
       "    </tr>\n",
       "    <tr>\n",
       "      <th>Female</th>\n",
       "      <td>-1.0</td>\n",
       "      <td>1.0</td>\n",
       "      <td>-0.2</td>\n",
       "      <td>-0.1</td>\n",
       "      <td>-0.1</td>\n",
       "      <td>-0.1</td>\n",
       "      <td>-0.1</td>\n",
       "      <td>-0.1</td>\n",
       "      <td>-0.1</td>\n",
       "      <td>-0.1</td>\n",
       "      <td>...</td>\n",
       "      <td>-0.1</td>\n",
       "      <td>-0.1</td>\n",
       "      <td>-0.1</td>\n",
       "      <td>-0.0</td>\n",
       "      <td>0.0</td>\n",
       "      <td>-0.1</td>\n",
       "      <td>-0.1</td>\n",
       "      <td>0.0</td>\n",
       "      <td>-0.0</td>\n",
       "      <td>0.1</td>\n",
       "    </tr>\n",
       "    <tr>\n",
       "      <th>Age</th>\n",
       "      <td>0.2</td>\n",
       "      <td>-0.2</td>\n",
       "      <td>1.0</td>\n",
       "      <td>-0.1</td>\n",
       "      <td>0.0</td>\n",
       "      <td>-0.0</td>\n",
       "      <td>-0.1</td>\n",
       "      <td>-0.2</td>\n",
       "      <td>-0.2</td>\n",
       "      <td>-0.1</td>\n",
       "      <td>...</td>\n",
       "      <td>0.1</td>\n",
       "      <td>0.1</td>\n",
       "      <td>-0.1</td>\n",
       "      <td>-0.1</td>\n",
       "      <td>-0.0</td>\n",
       "      <td>-0.0</td>\n",
       "      <td>-0.0</td>\n",
       "      <td>-0.0</td>\n",
       "      <td>-0.1</td>\n",
       "      <td>-0.1</td>\n",
       "    </tr>\n",
       "    <tr>\n",
       "      <th>Blast</th>\n",
       "      <td>0.1</td>\n",
       "      <td>-0.1</td>\n",
       "      <td>-0.1</td>\n",
       "      <td>1.0</td>\n",
       "      <td>0.5</td>\n",
       "      <td>0.5</td>\n",
       "      <td>0.4</td>\n",
       "      <td>0.2</td>\n",
       "      <td>-0.1</td>\n",
       "      <td>-0.2</td>\n",
       "      <td>...</td>\n",
       "      <td>-0.2</td>\n",
       "      <td>0.0</td>\n",
       "      <td>0.1</td>\n",
       "      <td>0.1</td>\n",
       "      <td>-0.1</td>\n",
       "      <td>-0.0</td>\n",
       "      <td>0.1</td>\n",
       "      <td>-0.1</td>\n",
       "      <td>0.1</td>\n",
       "      <td>0.4</td>\n",
       "    </tr>\n",
       "    <tr>\n",
       "      <th>Imm_Grans_1</th>\n",
       "      <td>0.1</td>\n",
       "      <td>-0.1</td>\n",
       "      <td>0.0</td>\n",
       "      <td>0.5</td>\n",
       "      <td>1.0</td>\n",
       "      <td>0.9</td>\n",
       "      <td>0.8</td>\n",
       "      <td>0.2</td>\n",
       "      <td>0.0</td>\n",
       "      <td>-0.0</td>\n",
       "      <td>...</td>\n",
       "      <td>-0.1</td>\n",
       "      <td>0.0</td>\n",
       "      <td>0.2</td>\n",
       "      <td>-0.1</td>\n",
       "      <td>0.1</td>\n",
       "      <td>-0.0</td>\n",
       "      <td>0.1</td>\n",
       "      <td>0.1</td>\n",
       "      <td>0.2</td>\n",
       "      <td>0.2</td>\n",
       "    </tr>\n",
       "    <tr>\n",
       "      <th>...</th>\n",
       "      <td>...</td>\n",
       "      <td>...</td>\n",
       "      <td>...</td>\n",
       "      <td>...</td>\n",
       "      <td>...</td>\n",
       "      <td>...</td>\n",
       "      <td>...</td>\n",
       "      <td>...</td>\n",
       "      <td>...</td>\n",
       "      <td>...</td>\n",
       "      <td>...</td>\n",
       "      <td>...</td>\n",
       "      <td>...</td>\n",
       "      <td>...</td>\n",
       "      <td>...</td>\n",
       "      <td>...</td>\n",
       "      <td>...</td>\n",
       "      <td>...</td>\n",
       "      <td>...</td>\n",
       "      <td>...</td>\n",
       "      <td>...</td>\n",
       "    </tr>\n",
       "    <tr>\n",
       "      <th>EO_c</th>\n",
       "      <td>0.1</td>\n",
       "      <td>-0.1</td>\n",
       "      <td>-0.0</td>\n",
       "      <td>-0.0</td>\n",
       "      <td>-0.0</td>\n",
       "      <td>-0.0</td>\n",
       "      <td>-0.0</td>\n",
       "      <td>0.3</td>\n",
       "      <td>0.0</td>\n",
       "      <td>0.0</td>\n",
       "      <td>...</td>\n",
       "      <td>0.8</td>\n",
       "      <td>0.0</td>\n",
       "      <td>0.4</td>\n",
       "      <td>0.0</td>\n",
       "      <td>-0.0</td>\n",
       "      <td>1.0</td>\n",
       "      <td>0.2</td>\n",
       "      <td>-0.0</td>\n",
       "      <td>0.3</td>\n",
       "      <td>-0.1</td>\n",
       "    </tr>\n",
       "    <tr>\n",
       "      <th>BA_c</th>\n",
       "      <td>0.1</td>\n",
       "      <td>-0.1</td>\n",
       "      <td>-0.0</td>\n",
       "      <td>0.1</td>\n",
       "      <td>0.1</td>\n",
       "      <td>0.1</td>\n",
       "      <td>0.1</td>\n",
       "      <td>0.3</td>\n",
       "      <td>0.2</td>\n",
       "      <td>0.1</td>\n",
       "      <td>...</td>\n",
       "      <td>0.1</td>\n",
       "      <td>0.5</td>\n",
       "      <td>0.5</td>\n",
       "      <td>0.0</td>\n",
       "      <td>-0.0</td>\n",
       "      <td>0.2</td>\n",
       "      <td>1.0</td>\n",
       "      <td>-0.0</td>\n",
       "      <td>0.1</td>\n",
       "      <td>-0.1</td>\n",
       "    </tr>\n",
       "    <tr>\n",
       "      <th>NRBC</th>\n",
       "      <td>-0.0</td>\n",
       "      <td>0.0</td>\n",
       "      <td>-0.0</td>\n",
       "      <td>-0.1</td>\n",
       "      <td>0.1</td>\n",
       "      <td>0.0</td>\n",
       "      <td>0.0</td>\n",
       "      <td>-0.0</td>\n",
       "      <td>-0.1</td>\n",
       "      <td>-0.0</td>\n",
       "      <td>...</td>\n",
       "      <td>0.1</td>\n",
       "      <td>0.0</td>\n",
       "      <td>-0.0</td>\n",
       "      <td>-0.0</td>\n",
       "      <td>1.0</td>\n",
       "      <td>-0.0</td>\n",
       "      <td>-0.0</td>\n",
       "      <td>1.0</td>\n",
       "      <td>0.5</td>\n",
       "      <td>-0.1</td>\n",
       "    </tr>\n",
       "    <tr>\n",
       "      <th>NRBC_c</th>\n",
       "      <td>0.0</td>\n",
       "      <td>-0.0</td>\n",
       "      <td>-0.1</td>\n",
       "      <td>0.1</td>\n",
       "      <td>0.2</td>\n",
       "      <td>0.1</td>\n",
       "      <td>0.1</td>\n",
       "      <td>0.6</td>\n",
       "      <td>-0.2</td>\n",
       "      <td>-0.2</td>\n",
       "      <td>...</td>\n",
       "      <td>0.0</td>\n",
       "      <td>-0.0</td>\n",
       "      <td>0.5</td>\n",
       "      <td>0.0</td>\n",
       "      <td>0.5</td>\n",
       "      <td>0.3</td>\n",
       "      <td>0.1</td>\n",
       "      <td>0.5</td>\n",
       "      <td>1.0</td>\n",
       "      <td>0.2</td>\n",
       "    </tr>\n",
       "    <tr>\n",
       "      <th>target</th>\n",
       "      <td>-0.1</td>\n",
       "      <td>0.1</td>\n",
       "      <td>-0.1</td>\n",
       "      <td>0.4</td>\n",
       "      <td>0.2</td>\n",
       "      <td>0.2</td>\n",
       "      <td>0.2</td>\n",
       "      <td>0.3</td>\n",
       "      <td>-0.3</td>\n",
       "      <td>-0.3</td>\n",
       "      <td>...</td>\n",
       "      <td>-0.1</td>\n",
       "      <td>-0.1</td>\n",
       "      <td>-0.1</td>\n",
       "      <td>0.3</td>\n",
       "      <td>-0.1</td>\n",
       "      <td>-0.1</td>\n",
       "      <td>-0.1</td>\n",
       "      <td>-0.1</td>\n",
       "      <td>0.2</td>\n",
       "      <td>1.0</td>\n",
       "    </tr>\n",
       "  </tbody>\n",
       "</table>\n",
       "<p>30 rows × 30 columns</p>\n",
       "</div>"
      ],
      "text/plain": [
       "             Male  Female  Age  Blast  Imm_Grans_1  Imm_Grans_2  Imm_Grans_3  \\\n",
       "Male          1.0    -1.0  0.2    0.1          0.1          0.1          0.1   \n",
       "Female       -1.0     1.0 -0.2   -0.1         -0.1         -0.1         -0.1   \n",
       "Age           0.2    -0.2  1.0   -0.1          0.0         -0.0         -0.1   \n",
       "Blast         0.1    -0.1 -0.1    1.0          0.5          0.5          0.4   \n",
       "Imm_Grans_1   0.1    -0.1  0.0    0.5          1.0          0.9          0.8   \n",
       "...           ...     ...  ...    ...          ...          ...          ...   \n",
       "EO_c          0.1    -0.1 -0.0   -0.0         -0.0         -0.0         -0.0   \n",
       "BA_c          0.1    -0.1 -0.0    0.1          0.1          0.1          0.1   \n",
       "NRBC         -0.0     0.0 -0.0   -0.1          0.1          0.0          0.0   \n",
       "NRBC_c        0.0    -0.0 -0.1    0.1          0.2          0.1          0.1   \n",
       "target       -0.1     0.1 -0.1    0.4          0.2          0.2          0.2   \n",
       "\n",
       "             WBC  RBC  HGB   ...     EO   BA  NE_c  LY_c  MO_c  EO_c  BA_c  \\\n",
       "Male         0.1  0.1  0.1   ...    0.1  0.1   0.1   0.0  -0.0   0.1   0.1   \n",
       "Female      -0.1 -0.1 -0.1   ...   -0.1 -0.1  -0.1  -0.0   0.0  -0.1  -0.1   \n",
       "Age         -0.2 -0.2 -0.1   ...    0.1  0.1  -0.1  -0.1  -0.0  -0.0  -0.0   \n",
       "Blast        0.2 -0.1 -0.2   ...   -0.2  0.0   0.1   0.1  -0.1  -0.0   0.1   \n",
       "Imm_Grans_1  0.2  0.0 -0.0   ...   -0.1  0.0   0.2  -0.1   0.1  -0.0   0.1   \n",
       "...          ...  ...  ...   ...    ...  ...   ...   ...   ...   ...   ...   \n",
       "EO_c         0.3  0.0  0.0   ...    0.8  0.0   0.4   0.0  -0.0   1.0   0.2   \n",
       "BA_c         0.3  0.2  0.1   ...    0.1  0.5   0.5   0.0  -0.0   0.2   1.0   \n",
       "NRBC        -0.0 -0.1 -0.0   ...    0.1  0.0  -0.0  -0.0   1.0  -0.0  -0.0   \n",
       "NRBC_c       0.6 -0.2 -0.2   ...    0.0 -0.0   0.5   0.0   0.5   0.3   0.1   \n",
       "target       0.3 -0.3 -0.3   ...   -0.1 -0.1  -0.1   0.3  -0.1  -0.1  -0.1   \n",
       "\n",
       "             NRBC  NRBC_c  target  \n",
       "Male         -0.0     0.0    -0.1  \n",
       "Female        0.0    -0.0     0.1  \n",
       "Age          -0.0    -0.1    -0.1  \n",
       "Blast        -0.1     0.1     0.4  \n",
       "Imm_Grans_1   0.1     0.2     0.2  \n",
       "...           ...     ...     ...  \n",
       "EO_c         -0.0     0.3    -0.1  \n",
       "BA_c         -0.0     0.1    -0.1  \n",
       "NRBC          1.0     0.5    -0.1  \n",
       "NRBC_c        0.5     1.0     0.2  \n",
       "target       -0.1     0.2     1.0  \n",
       "\n",
       "[30 rows x 30 columns]"
      ]
     },
     "execution_count": 165,
     "metadata": {},
     "output_type": "execute_result"
    }
   ],
   "source": [
    "correlation_dataframe = training_examples.copy()\n",
    "correlation_dataframe[\"target\"] = training_targets[\"blast_count\"]\n",
    "\n",
    "correlation_dataframe.corr()"
   ]
  },
  {
   "cell_type": "markdown",
   "metadata": {},
   "source": [
    "流程:\n",
    "\n",
    "1. Build feature columns\n",
    "2. Define input function\n",
    "3. Define optimizer\n",
    "4. Training model"
   ]
  },
  {
   "cell_type": "code",
   "execution_count": 166,
   "metadata": {
    "collapsed": true
   },
   "outputs": [],
   "source": [
    "def construct_feature_columns(input_features):\n",
    "  \"\"\"Construct the TensorFlow Feature Columns.\n",
    "\n",
    "  Args:\n",
    "    input_features: The names of the numerical input features to use.\n",
    "  Returns:\n",
    "    A set of feature columns\n",
    "  \"\"\" \n",
    "  return set([tf.feature_column.numeric_column(my_feature)\n",
    "              for my_feature in input_features])"
   ]
  },
  {
   "cell_type": "code",
   "execution_count": 167,
   "metadata": {
    "collapsed": true
   },
   "outputs": [],
   "source": [
    "def my_input_fn(features, targets, batch_size=1, shuffle=True, num_epochs=None):\n",
    "    \"\"\"Trains a linear regression model of one feature.\n",
    "  \n",
    "    Args:\n",
    "      features: pandas DataFrame of features\n",
    "      targets: pandas DataFrame of targets\n",
    "      batch_size: Size of batches to be passed to the model\n",
    "      shuffle: True or False. Whether to shuffle the data.\n",
    "      num_epochs: Number of epochs for which data should be repeated. None = repeat indefinitely\n",
    "    Returns:\n",
    "      Tuple of (features, labels) for next data batch\n",
    "    \"\"\"\n",
    "    \n",
    "    # Convert pandas data into a dict of np arrays\n",
    "    features = {key:np.array(value) for key,value in dict(features).items()}                                           \n",
    "    \n",
    "    # Construct a dataset, and configure batching/repeating\n",
    "    ds = Dataset.from_tensor_slices((features,targets)) # warning: 2GB limit\n",
    "    ds = ds.batch(batch_size).repeat(num_epochs)\n",
    "\n",
    "    # Shuffle the data, if specified\n",
    "    if shuffle:\n",
    "      ds = ds.shuffle(100)\n",
    "    \n",
    "    # Return the next batch of data\n",
    "    features, labels = ds.make_one_shot_iterator().get_next()\n",
    "    return features, labels"
   ]
  },
  {
   "cell_type": "code",
   "execution_count": 168,
   "metadata": {
    "collapsed": true
   },
   "outputs": [],
   "source": [
    "def train_regression_model(\n",
    "    learning_rate,\n",
    "    steps,\n",
    "    batch_size,\n",
    "    training_examples,\n",
    "    training_targets,\n",
    "    validation_examples,\n",
    "    validation_targets):\n",
    "  \"\"\"Trains a linear regression model.\n",
    "  \n",
    "  In addition to training, this function also prints training progress information,\n",
    "  as well as a plot of the training and validation loss over time.\n",
    "  \n",
    "  Args:\n",
    "    learning_rate: A `float`, the learning rate.\n",
    "    steps: A non-zero `int`, the total number of training steps. A training step\n",
    "      consists of a forward and backward pass using a single batch.\n",
    "    batch_size: A non-zero `int`, the batch size.\n",
    "    training_examples: A `DataFrame` containing one or more columns from\n",
    "      `cbc_dataframe` to use as input features for training.\n",
    "    training_targets: A `DataFrame` containing exactly one column from\n",
    "      `cbc_dataframe` to use as target for training.\n",
    "    validation_examples: A `DataFrame` containing one or more columns from\n",
    "      `cbc_dataframe` to use as input features for validation.\n",
    "    validation_targets: A `DataFrame` containing exactly one column from\n",
    "      `cbc_dataframe` to use as target for validation.\n",
    "      \n",
    "  Returns:\n",
    "    A `LinearRegressor` object trained on the training data.\n",
    "  \"\"\"\n",
    "\n",
    "  periods = 10\n",
    "  steps_per_period = steps / periods\n",
    "\n",
    "  # Create a linear regressor object.\n",
    "  my_optimizer = tf.train.GradientDescentOptimizer(learning_rate=learning_rate)\n",
    "  my_optimizer = tf.contrib.estimator.clip_gradients_by_norm(my_optimizer, 5.0)\n",
    "  linear_regressor = tf.estimator.LinearRegressor(\n",
    "      feature_columns=construct_feature_columns(training_examples),\n",
    "      optimizer=my_optimizer\n",
    "  )\n",
    "    \n",
    "  # Create input functions\n",
    "  training_input_fn = lambda: my_input_fn(training_examples, \n",
    "                                          training_targets[\"blast_count\"], \n",
    "                                          batch_size=batch_size)\n",
    "  predict_training_input_fn = lambda: my_input_fn(training_examples, \n",
    "                                                  training_targets[\"blast_count\"], \n",
    "                                                  num_epochs=1, \n",
    "                                                  shuffle=False)\n",
    "  predict_validation_input_fn = lambda: my_input_fn(validation_examples, \n",
    "                                                    validation_targets[\"blast_count\"], \n",
    "                                                    num_epochs=1, \n",
    "                                                    shuffle=False)\n",
    "\n",
    "  # Train the model, but do so inside a loop so that we can periodically assess\n",
    "  # loss metrics.\n",
    "  print (\"Training model...\")\n",
    "  print (\"RMSE (on training data):\")\n",
    "  training_rmse = []\n",
    "  validation_rmse = []\n",
    "  for period in range (0, periods):\n",
    "    # Train the model, starting from the prior state.\n",
    "    linear_regressor.train(\n",
    "        input_fn=training_input_fn,\n",
    "        steps=steps_per_period,\n",
    "    )\n",
    "    # Take a break and compute predictions.\n",
    "    training_predictions = linear_regressor.predict(input_fn=predict_training_input_fn)\n",
    "    training_predictions = np.array([item['predictions'][0] for item in training_predictions])\n",
    "    \n",
    "    validation_predictions = linear_regressor.predict(input_fn=predict_validation_input_fn)\n",
    "    validation_predictions = np.array([item['predictions'][0] for item in validation_predictions])\n",
    "    \n",
    "    # Compute training and validation loss.\n",
    "    training_root_mean_squared_error = math.sqrt(\n",
    "        metrics.mean_squared_error(training_predictions, training_targets))\n",
    "    validation_root_mean_squared_error = math.sqrt(\n",
    "        metrics.mean_squared_error(validation_predictions, validation_targets))\n",
    "    # Occasionally print the current loss.\n",
    "    print (\"  period %02d : %0.2f\" % (period, training_root_mean_squared_error))\n",
    "    # Add the loss metrics from this period to our list.\n",
    "    training_rmse.append(training_root_mean_squared_error)\n",
    "    validation_rmse.append(validation_root_mean_squared_error)\n",
    "  print (\"Model training finished.\")\n",
    "\n",
    "  \n",
    "  # Output a graph of loss metrics over periods.\n",
    "  plt.ylabel(\"RMSE\")\n",
    "  plt.xlabel(\"Periods\")\n",
    "  plt.title(\"Root Mean Squared Error vs. Periods\")\n",
    "  plt.tight_layout()\n",
    "  plt.plot(training_rmse, label=\"training\")\n",
    "  plt.plot(validation_rmse, label=\"validation\")\n",
    "  plt.legend()\n",
    "  plt.show()\n",
    "\n",
    "  return linear_regressor"
   ]
  },
  {
   "cell_type": "markdown",
   "metadata": {},
   "source": [
    "開train"
   ]
  },
  {
   "cell_type": "code",
   "execution_count": 169,
   "metadata": {},
   "outputs": [
    {
     "data": {
      "text/plain": [
       "MCHC    float64\n",
       "RDW     float64\n",
       "PLT     float64\n",
       "MPV     float64\n",
       "NE      float64\n",
       "LY      float64\n",
       "dtype: object"
      ]
     },
     "execution_count": 169,
     "metadata": {},
     "output_type": "execute_result"
    }
   ],
   "source": [
    "training_examples.loc[:,[ 'MCHC', 'RDW',\n",
    "       'PLT', 'MPV', 'NE', 'LY',]].dtypes"
   ]
  },
  {
   "cell_type": "code",
   "execution_count": 174,
   "metadata": {
    "scrolled": true
   },
   "outputs": [
    {
     "name": "stdout",
     "output_type": "stream",
     "text": [
      "Training model...\n",
      "RMSE (on training data):\n",
      "  period 00 : 29.47\n",
      "  period 01 : 29.02\n",
      "  period 02 : 28.77\n",
      "  period 03 : 28.45\n",
      "  period 04 : 28.26\n",
      "  period 05 : 28.28\n",
      "  period 06 : 27.77\n",
      "  period 07 : 27.44\n",
      "  period 08 : 27.25\n",
      "  period 09 : 27.19\n",
      "Model training finished.\n"
     ]
    },
    {
     "data": {
      "image/png": "[encoded data removed]",
      "text/plain": [
       "<matplotlib.figure.Figure at 0x2515f470>"
      ]
     },
     "metadata": {},
     "output_type": "display_data"
    },
    {
     "data": {
      "text/plain": [
       "<tensorflow.python.estimator.canned.linear.LinearRegressor at 0x1ab12550>"
      ]
     },
     "execution_count": 174,
     "metadata": {},
     "output_type": "execute_result"
    }
   ],
   "source": [
    "minimal_features = ['Male', 'Age', 'Blast', 'WBC', 'RBC', 'HGB', 'HCT', 'MCV', 'MCH', 'MCHC', 'RDW',\n",
    "       'PLT', 'MPV', 'NE', 'LY', 'MO', 'EO', 'BA', 'NE_c', 'LY_c', 'MO_c',\n",
    "       'EO_c', 'BA_c', 'NRBC', 'NRBC_c']\n",
    "\n",
    "minimal_training_examples = training_examples[minimal_features]\n",
    "minimal_validation_examples = validation_examples[minimal_features]\n",
    "\n",
    "train_regression_model(\n",
    "    learning_rate=0.0001,\n",
    "    steps=200,\n",
    "    batch_size=10,\n",
    "    training_examples=training_examples,\n",
    "    training_targets=training_targets,\n",
    "    validation_examples=validation_examples,\n",
    "    validation_targets=validation_targets)"
   ]
  },
  {
   "cell_type": "code",
   "execution_count": 178,
   "metadata": {},
   "outputs": [
    {
     "name": "stdout",
     "output_type": "stream",
     "text": [
      "Training model...\n",
      "RMSE (on training data):\n",
      "  period 00 : 23.04\n",
      "  period 01 : 19.60\n",
      "  period 02 : 19.19\n",
      "  period 03 : 21.25\n",
      "  period 04 : 19.24\n",
      "  period 05 : 21.77\n",
      "  period 06 : 17.54\n",
      "  period 07 : 17.54\n",
      "  period 08 : 18.39\n",
      "  period 09 : 18.07\n",
      "Model training finished.\n"
     ]
    },
    {
     "data": {
      "image/png": "[encoded data removed]",
      "text/plain": [
       "<matplotlib.figure.Figure at 0x31ad5668>"
      ]
     },
     "metadata": {},
     "output_type": "display_data"
    }
   ],
   "source": [
    "minimal_features = ['Male', 'Age', 'Blast', 'WBC', 'RBC', 'HGB', 'HCT', 'MCV', 'MCH', 'MCHC', 'RDW',\n",
    "       'PLT', 'MPV', 'NE', 'LY', 'MO', 'EO', 'BA', 'NE_c', 'LY_c', 'MO_c',\n",
    "       'EO_c', 'BA_c', 'NRBC', 'NRBC_c']\n",
    "\n",
    "minimal_training_examples = training_examples[minimal_features]\n",
    "minimal_validation_examples = validation_examples[minimal_features]\n",
    "\n",
    "linear_regressor = train_regression_model(\n",
    "    learning_rate=0.01,\n",
    "    steps=400,\n",
    "    batch_size=10,\n",
    "    training_examples=training_examples,\n",
    "    training_targets=training_targets,\n",
    "    validation_examples=validation_examples,\n",
    "    validation_targets=validation_targets)"
   ]
  },
  {
   "cell_type": "code",
   "execution_count": 180,
   "metadata": {},
   "outputs": [
    {
     "name": "stdout",
     "output_type": "stream",
     "text": [
      "Final RMSE (on test data): 16.40\n"
     ]
    }
   ],
   "source": [
    "test_examples = preprocess_features(even_blast_testing)\n",
    "test_targets = preprocess_targets(even_blast_testing)\n",
    "\n",
    "predict_test_input_data = lambda: my_input_fn(batch_size=1, features=test_examples, num_epochs=1, shuffle=False, targets=test_targets)\n",
    "\n",
    "test_predictions = linear_regressor.predict(input_fn = predict_test_input_data)\n",
    "test_predictions = np.array([item['predictions'][0] for item in test_predictions])\n",
    "\n",
    "root_mean_squared_error = math.sqrt(\n",
    "    metrics.mean_squared_error(test_predictions, test_targets))\n",
    "\n",
    "print (\"Final RMSE (on test data): %0.2f\" % root_mean_squared_error)"
   ]
  },
  {
   "cell_type": "code",
   "execution_count": 215,
   "metadata": {},
   "outputs": [
    {
     "data": {
      "text/html": [
       "<div>\n",
       "<style scoped>\n",
       "    .dataframe tbody tr th:only-of-type {\n",
       "        vertical-align: middle;\n",
       "    }\n",
       "\n",
       "    .dataframe tbody tr th {\n",
       "        vertical-align: top;\n",
       "    }\n",
       "\n",
       "    .dataframe thead th {\n",
       "        text-align: right;\n",
       "    }\n",
       "</style>\n",
       "<table border=\"1\" class=\"dataframe\">\n",
       "  <thead>\n",
       "    <tr style=\"text-align: right;\">\n",
       "      <th></th>\n",
       "      <th>prediction</th>\n",
       "      <th>blast_count</th>\n",
       "    </tr>\n",
       "  </thead>\n",
       "  <tbody>\n",
       "    <tr>\n",
       "      <th>0</th>\n",
       "      <td>2.4</td>\n",
       "      <td>1.0</td>\n",
       "    </tr>\n",
       "    <tr>\n",
       "      <th>1</th>\n",
       "      <td>5.5</td>\n",
       "      <td>1.0</td>\n",
       "    </tr>\n",
       "    <tr>\n",
       "      <th>2</th>\n",
       "      <td>11.6</td>\n",
       "      <td>4.0</td>\n",
       "    </tr>\n",
       "    <tr>\n",
       "      <th>3</th>\n",
       "      <td>0.5</td>\n",
       "      <td>1.0</td>\n",
       "    </tr>\n",
       "    <tr>\n",
       "      <th>4</th>\n",
       "      <td>2.9</td>\n",
       "      <td>1.0</td>\n",
       "    </tr>\n",
       "    <tr>\n",
       "      <th>...</th>\n",
       "      <td>...</td>\n",
       "      <td>...</td>\n",
       "    </tr>\n",
       "    <tr>\n",
       "      <th>277</th>\n",
       "      <td>8.0</td>\n",
       "      <td>37.0</td>\n",
       "    </tr>\n",
       "    <tr>\n",
       "      <th>278</th>\n",
       "      <td>23.4</td>\n",
       "      <td>25.0</td>\n",
       "    </tr>\n",
       "    <tr>\n",
       "      <th>279</th>\n",
       "      <td>2.7</td>\n",
       "      <td>58.0</td>\n",
       "    </tr>\n",
       "    <tr>\n",
       "      <th>280</th>\n",
       "      <td>6.5</td>\n",
       "      <td>35.0</td>\n",
       "    </tr>\n",
       "    <tr>\n",
       "      <th>281</th>\n",
       "      <td>18.6</td>\n",
       "      <td>22.0</td>\n",
       "    </tr>\n",
       "  </tbody>\n",
       "</table>\n",
       "<p>282 rows × 2 columns</p>\n",
       "</div>"
      ],
      "text/plain": [
       "     prediction  blast_count\n",
       "0           2.4          1.0\n",
       "1           5.5          1.0\n",
       "2          11.6          4.0\n",
       "3           0.5          1.0\n",
       "4           2.9          1.0\n",
       "..          ...          ...\n",
       "277         8.0         37.0\n",
       "278        23.4         25.0\n",
       "279         2.7         58.0\n",
       "280         6.5         35.0\n",
       "281        18.6         22.0\n",
       "\n",
       "[282 rows x 2 columns]"
      ]
     },
     "execution_count": 215,
     "metadata": {},
     "output_type": "execute_result"
    }
   ],
   "source": [
    "pd.concat(objs= [pd.Series(test_predictions, name='prediction'), test_targets], axis=1)#.to_csv(\"C:/Users/edwardchen/Desktop/predict.csv\")"
   ]
  }
 ],
 "metadata": {
  "kernelspec": {
   "display_name": "Python 3",
   "language": "python",
   "name": "python3"
  },
  "language_info": {
   "codemirror_mode": {
    "name": "ipython",
    "version": 3
   },
   "file_extension": ".py",
   "mimetype": "text/x-python",
   "name": "python",
   "nbconvert_exporter": "python",
   "pygments_lexer": "ipython3",
   "version": "3.6.3"
  }
 },
 "nbformat": 4,
 "nbformat_minor": 2
}
